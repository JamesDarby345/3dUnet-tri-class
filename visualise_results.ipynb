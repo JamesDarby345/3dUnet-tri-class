{
 "cells": [
  {
   "cell_type": "code",
   "execution_count": 1,
   "metadata": {},
   "outputs": [],
   "source": [
    "import h5py\n",
    "import numpy as np\n",
    "import nrrd\n",
    "import os\n",
    "from helpers import *\n",
    "\n",
    "def read_hdf5_file(file_path):\n",
    "    # Open the HDF5 file\n",
    "    with h5py.File(file_path, 'r') as hdf5_file:\n",
    "        # Print all dataset names\n",
    "        print(\"Datasets in the file:\")\n",
    "        for name in hdf5_file:\n",
    "            print(name)\n",
    "        \n",
    "        # Read datasets into NumPy arrays\n",
    "        data = {}\n",
    "        for name in hdf5_file:\n",
    "            data[name] = np.array(hdf5_file[name])\n",
    "            print(f\"{name} shape: {data[name].shape}\")\n",
    "\n",
    "    return data"
   ]
  },
  {
   "cell_type": "code",
   "execution_count": 2,
   "metadata": {},
   "outputs": [
    {
     "name": "stdout",
     "output_type": "stream",
     "text": [
      "Datasets in the file:\n",
      "predictions\n",
      "predictions shape: (256, 256, 256)\n"
     ]
    }
   ],
   "source": [
    "current_directory = os.getcwd()\n",
    "base_pred_path = f'{current_directory}/data/Vesuvius/test/predictions/'\n",
    "filename = '3350_4000_8450_xyz_256_res1_s4'\n",
    "filename = 'manual_1'\n",
    "pred_path = f'{base_pred_path}{filename}_predictions.h5'\n",
    "pred_data = read_hdf5_file(pred_path)\n",
    "\n",
    "img_path = f'{current_directory}/data/Vesuvius/test/raw/{filename}_raw.nrrd'\n",
    "img, _ = nrrd.read(img_path)\n",
    "\n",
    "pred = pred_data['predictions']\n"
   ]
  },
  {
   "cell_type": "code",
   "execution_count": 3,
   "metadata": {},
   "outputs": [
    {
     "name": "stdout",
     "output_type": "stream",
     "text": [
      "Datasets in the file:\n",
      "label\n",
      "raw\n",
      "label shape: (256, 256, 256)\n",
      "raw shape: (256, 256, 256)\n",
      "(256, 256, 256) (256, 256, 256) 16083298 15799084\n"
     ]
    }
   ],
   "source": [
    "gt_label_data = read_hdf5_file(f'{current_directory}/data/Vesuvius/train/dataset/{filename}.h5') #may need to remove/add _raw if using layers_X or not\n",
    "gt = gt_label_data['label']\n",
    "print(pred.shape, img.shape, np.sum(pred), np.sum(gt))"
   ]
  },
  {
   "cell_type": "code",
   "execution_count": 4,
   "metadata": {},
   "outputs": [
    {
     "data": {
      "application/vnd.jupyter.widget-view+json": {
       "model_id": "bfb215f68f64471187a57b4e3be4b4a5",
       "version_major": 2,
       "version_minor": 0
      },
      "text/plain": [
       "interactive(children=(IntSlider(value=0, description='slice_index', max=255), IntSlider(value=0, description='…"
      ]
     },
     "metadata": {},
     "output_type": "display_data"
    },
    {
     "data": {
      "text/plain": [
       "<function __main__.plot_slice(slice_index, axis=0)>"
      ]
     },
     "execution_count": 4,
     "metadata": {},
     "output_type": "execute_result"
    }
   ],
   "source": [
    "#show prediction\n",
    "from ipywidgets import interact, IntSlider\n",
    "import matplotlib.pyplot as plt\n",
    "def plot_slice(slice_index, axis=0):\n",
    "    plt.figure(figsize=(8, 6))\n",
    "    if axis == 1:\n",
    "        plt.imshow(pred[:,slice_index,:])\n",
    "    elif axis == 2:\n",
    "        plt.imshow(pred[:,:,slice_index])\n",
    "    else:\n",
    "        plt.imshow(pred[slice_index,:,:])\n",
    "    plt.colorbar()\n",
    "    plt.title(f'Slice {slice_index}')\n",
    "    plt.show()\n",
    "\n",
    "interact(plot_slice, slice_index=IntSlider(min=0, max=pred.shape[0]-1, step=1, value=0), axis=IntSlider(min=0, max=2, step=1, value=0))"
   ]
  },
  {
   "cell_type": "code",
   "execution_count": 5,
   "metadata": {},
   "outputs": [
    {
     "data": {
      "application/vnd.jupyter.widget-view+json": {
       "model_id": "f115a597820542d28c71a69dcec23ef5",
       "version_major": 2,
       "version_minor": 0
      },
      "text/plain": [
       "interactive(children=(IntSlider(value=0, description='slice_index', max=255), IntSlider(value=0, description='…"
      ]
     },
     "metadata": {},
     "output_type": "display_data"
    },
    {
     "data": {
      "text/plain": [
       "<function __main__.plot_slice(slice_index, axis=0)>"
      ]
     },
     "execution_count": 5,
     "metadata": {},
     "output_type": "execute_result"
    }
   ],
   "source": [
    "#show ground truth label\n",
    "from ipywidgets import interact, IntSlider\n",
    "import matplotlib.pyplot as plt\n",
    "def plot_slice(slice_index, axis=0):\n",
    "    plt.figure(figsize=(8, 6))\n",
    "    if axis == 1:\n",
    "        plt.imshow(gt[:,slice_index,:])\n",
    "    elif axis == 2:\n",
    "        plt.imshow(gt[:,:,slice_index])\n",
    "    else:\n",
    "        plt.imshow(gt[slice_index,:,:])\n",
    "    plt.colorbar()\n",
    "    plt.title(f'Slice {slice_index}')\n",
    "    plt.show()\n",
    "\n",
    "interact(plot_slice, slice_index=IntSlider(min=0, max=pred.shape[0]-1, step=1, value=0), axis=IntSlider(min=0, max=2, step=1, value=0))"
   ]
  },
  {
   "cell_type": "code",
   "execution_count": 6,
   "metadata": {},
   "outputs": [
    {
     "data": {
      "application/vnd.jupyter.widget-view+json": {
       "model_id": "c1df2bb0536448629b4a86ccf72c570f",
       "version_major": 2,
       "version_minor": 0
      },
      "text/plain": [
       "interactive(children=(IntSlider(value=0, description='slice_index', max=255), IntSlider(value=0, description='…"
      ]
     },
     "metadata": {},
     "output_type": "display_data"
    },
    {
     "data": {
      "text/plain": [
       "<function __main__.plot_slice(slice_index, axis=0)>"
      ]
     },
     "execution_count": 6,
     "metadata": {},
     "output_type": "execute_result"
    }
   ],
   "source": [
    "#show prediction overlaid on raw data\n",
    "from ipywidgets import interact, IntSlider\n",
    "import matplotlib.pyplot as plt\n",
    "def plot_slice(slice_index, axis=0):\n",
    "    plt.figure(figsize=(8, 6))\n",
    "    if axis == 1:\n",
    "        plt.imshow(mark_boundaries_color(img[:,slice_index,:], pred[:,slice_index,:]))\n",
    "    elif axis == 2:\n",
    "        plt.imshow(mark_boundaries_color(img[:,:,slice_index], pred[:,:,slice_index]))\n",
    "    else:\n",
    "        plt.imshow(mark_boundaries_color(img[slice_index,:,:], pred[slice_index,:,:]))\n",
    "    plt.colorbar()\n",
    "    plt.title(f'Slice {slice_index}')\n",
    "    plt.show()\n",
    "\n",
    "interact(plot_slice, slice_index=IntSlider(min=0, max=pred.shape[0]-1, step=1, value=0), axis=IntSlider(min=0, max=2, step=1, value=0))"
   ]
  },
  {
   "cell_type": "code",
   "execution_count": 7,
   "metadata": {},
   "outputs": [],
   "source": [
    "import scipy.ndimage\n",
    "def label_foreground_structures(input_array, min_size=1000):\n",
    "    \"\"\"\n",
    "    Label connected foreground structures in the input array, removing small structures below a specified size.\n",
    "    \n",
    "    Parameters:\n",
    "        input_array (np.ndarray): The input array with foreground structures labeled as 2.\n",
    "        min_size (int): Minimum size of the structures to retain. Structures smaller than this size will be removed.\n",
    "    \n",
    "    Returns:\n",
    "        np.ndarray: The labeled array with small structures removed and remaining structures relabeled.\n",
    "    \"\"\"\n",
    "    \n",
    "    # Find connected components in the foreground (value 2)\n",
    "    foreground = input_array == 2\n",
    "    \n",
    "    # Label connected components\n",
    "    labeled_array, num_features = scipy.ndimage.label(foreground)\n",
    "    \n",
    "    # Measure the size of each connected component\n",
    "    structure_sizes = np.array(scipy.ndimage.sum(foreground, labeled_array, range(num_features + 1)))\n",
    "    \n",
    "    # Create a mask to remove small structures\n",
    "    remove_mask = structure_sizes < min_size\n",
    "    remove_mask[0] = 0  # Ensure the background is not removed\n",
    "\n",
    "    # Remove small structures\n",
    "    labeled_array[remove_mask[labeled_array]] = 0\n",
    "\n",
    "    # Relabel the structures after removal\n",
    "    labeled_array, num_features = scipy.ndimage.label(labeled_array > 0)\n",
    "\n",
    "    print(f\"Number of connected foreground structures before filtering: {num_features}\")\n",
    "    print(f\"Number of connected foreground structures after filtering: {np.max(labeled_array)}\")\n",
    "    \n",
    "    return labeled_array\n"
   ]
  },
  {
   "cell_type": "code",
   "execution_count": 8,
   "metadata": {},
   "outputs": [
    {
     "name": "stdout",
     "output_type": "stream",
     "text": [
      "Number of connected foreground structures before filtering: 4\n",
      "Number of connected foreground structures after filtering: 4\n"
     ]
    }
   ],
   "source": [
    "labeled_arr = label_foreground_structures(pred)"
   ]
  },
  {
   "cell_type": "code",
   "execution_count": 9,
   "metadata": {},
   "outputs": [
    {
     "data": {
      "application/vnd.jupyter.widget-view+json": {
       "model_id": "14e0c756170a4c4cb46c58ed3404ecb0",
       "version_major": 2,
       "version_minor": 0
      },
      "text/plain": [
       "interactive(children=(IntSlider(value=0, description='slice_index', max=255), IntSlider(value=0, description='…"
      ]
     },
     "metadata": {},
     "output_type": "display_data"
    },
    {
     "data": {
      "text/plain": [
       "<function __main__.plot_slice(slice_index, axis=0)>"
      ]
     },
     "execution_count": 9,
     "metadata": {},
     "output_type": "execute_result"
    }
   ],
   "source": [
    "#show post processing instance segmentation overlaid on raw data\n",
    "def plot_slice(slice_index, axis=0):\n",
    "    plt.figure(figsize=(8, 6))\n",
    "    if axis == 1:\n",
    "        plt.imshow(mark_boundaries_color(img[:,slice_index,:], labeled_arr[:,slice_index,:]))\n",
    "    elif axis == 2:\n",
    "        plt.imshow(mark_boundaries_color(img[:,:,slice_index], labeled_arr[:,:,slice_index]))\n",
    "    else:\n",
    "        plt.imshow(mark_boundaries_color(img[slice_index,:,:], labeled_arr[slice_index,:,:]))\n",
    "    plt.colorbar()\n",
    "    plt.title(f'Slice {slice_index}')\n",
    "    plt.show()\n",
    "\n",
    "interact(plot_slice, slice_index=IntSlider(min=0, max=pred.shape[0]-1, step=1, value=0), axis=IntSlider(min=0, max=2, step=1, value=0))"
   ]
  }
 ],
 "metadata": {
  "kernelspec": {
   "display_name": "ML_Normals",
   "language": "python",
   "name": "python3"
  },
  "language_info": {
   "codemirror_mode": {
    "name": "ipython",
    "version": 3
   },
   "file_extension": ".py",
   "mimetype": "text/x-python",
   "name": "python",
   "nbconvert_exporter": "python",
   "pygments_lexer": "ipython3",
   "version": "3.12.3"
  }
 },
 "nbformat": 4,
 "nbformat_minor": 2
}
