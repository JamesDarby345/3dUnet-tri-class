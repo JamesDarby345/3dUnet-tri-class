{
 "cells": [
  {
   "cell_type": "code",
   "execution_count": 30,
   "metadata": {},
   "outputs": [],
   "source": [
    "import os\n",
    "import nrrd\n",
    "import numpy as np\n",
    "from helpers import *\n",
    "from ipywidgets import interact, IntSlider\n",
    "import matplotlib.pyplot as plt\n",
    "import shutil\n",
    "from scipy.ndimage import binary_dilation, binary_erosion, binary_closing\n",
    "\n",
    "from concurrent.futures import ProcessPoolExecutor"
   ]
  },
  {
   "cell_type": "code",
   "execution_count": 2,
   "metadata": {},
   "outputs": [],
   "source": [
    "#helper to move and rename nrrd files\n",
    "def rename_and_move_nrrd_files(root_dir):\n",
    "    for subdir, _, files in os.walk(root_dir):\n",
    "        if os.path.basename(subdir) == 'original_labels':\n",
    "            raw_dir = os.path.join(os.path.dirname(subdir), 'raw')\n",
    "            os.makedirs(raw_dir, exist_ok=True)\n",
    "            \n",
    "            for file in files:\n",
    "                old_path = os.path.join(subdir, file)\n",
    "                \n",
    "                if file.endswith('_data.nrrd'):\n",
    "                    new_filename = file.replace('_data.nrrd', '_raw.nrrd')\n",
    "                    new_path = os.path.join(raw_dir, new_filename)\n",
    "                elif file.endswith('_raw.nrrd'):\n",
    "                    new_path = os.path.join(raw_dir, file)\n",
    "                else:\n",
    "                    continue  # Skip files that do not match the criteria\n",
    "                \n",
    "                shutil.move(old_path, new_path)\n",
    "                print(f\"Moved and renamed: {old_path} -> {new_path}\")"
   ]
  },
  {
   "cell_type": "code",
   "execution_count": 3,
   "metadata": {},
   "outputs": [],
   "source": [
    "if False:\n",
    "    current_directory = os.getcwd()\n",
    "    root_directory = f'{current_directory}/data/Vesuvius/'\n",
    "    rename_and_move_nrrd_files(root_directory)"
   ]
  },
  {
   "cell_type": "code",
   "execution_count": 42,
   "metadata": {},
   "outputs": [],
   "source": [
    "# def process_nrrd_file(nrrd_path, label_dir, erosion_iterations=1, dilation_iterations=1):\n",
    "#     print(f\"Processing: {nrrd_path}\")\n",
    "#     data, header = nrrd.read(nrrd_path)\n",
    "#     unique_values = np.unique(data[data > 0])  # Ignore background & masking\n",
    "#     print(f\"Unique values: {unique_values}\")\n",
    "#     # Create an empty array for the result\n",
    "#     result = np.zeros_like(data, dtype=np.uint8)\n",
    "\n",
    "#     for value in unique_values:\n",
    "#         structure_mask = data == value\n",
    "        \n",
    "#         # Erode the structure\n",
    "#         eroded_structure = binary_erosion(structure_mask, iterations=erosion_iterations)\n",
    "        \n",
    "#         if dilation_iterations > 0:\n",
    "#             # Dilate the original structure\n",
    "#             dilated_structure = binary_dilation(structure_mask, iterations=dilation_iterations)\n",
    "#         else:\n",
    "#             dilated_structure = structure_mask\n",
    "        \n",
    "#         # Assign the values to the result array\n",
    "#         result[dilated_structure] = 1  # Border class\n",
    "#         result[eroded_structure] = 2  # Foreground class (overwrites the border if applicable)\n",
    "\n",
    "#     # Save the processed array back to an .nrrd file\n",
    "#     output_path = os.path.join(label_dir, f\"tri_class_{os.path.basename(nrrd_path)}\")\n",
    "#     nrrd.write(output_path, result, header)\n",
    "#     print(f\"Processed and saved: {output_path}\")\n",
    "\n",
    "# def process_nrrd_files(root_dir):\n",
    "#     for subdir, _, files in os.walk(root_dir):\n",
    "#         if os.path.basename(subdir) == 'original_labels':\n",
    "#             # Determine the corresponding 'label' directory\n",
    "#             label_dir = os.path.join(os.path.dirname(subdir), 'label')\n",
    "#             os.makedirs(label_dir, exist_ok=True)\n",
    "\n",
    "#             # Prepare the arguments for parallel processing\n",
    "#             nrrd_paths = [os.path.join(subdir, file) for file in files if file.endswith('.nrrd')]\n",
    "#             args = [(nrrd_path, label_dir) for nrrd_path in nrrd_paths]\n",
    "#             # for a in args:\n",
    "#             #     print(f\"Queueing: {a}\")\n",
    "\n",
    "#             # Use ProcessPoolExecutor for parallel processing\n",
    "#             with ProcessPoolExecutor() as executor:\n",
    "#                 futures = [executor.submit(process_nrrd_file, *arg) for arg in args]\n",
    "#                 for future in futures:\n",
    "#                     future.result()  # This will re-raise any exceptions caught during processing"
   ]
  },
  {
   "cell_type": "code",
   "execution_count": 64,
   "metadata": {},
   "outputs": [],
   "source": [
    "def process_nrrd_file(nrrd_path, label_dir, erosion_iterations=1, dilation_iterations=1):\n",
    "    print(f\"Processing: {nrrd_path}\")\n",
    "    data, header = nrrd.read(nrrd_path)\n",
    "    unique_values = np.unique(data[data > 0])  # Ignore background & masking\n",
    "    print(f\"Unique values: {unique_values}\")\n",
    "\n",
    "    # Create an empty array for the result\n",
    "    result = np.zeros_like(data, dtype=np.uint8)\n",
    "\n",
    "    for value in unique_values:\n",
    "        structure_mask = data == value\n",
    "        \n",
    "        # Pad the structure mask to prevent erosion at the edges\n",
    "        padded_structure = np.pad(structure_mask, pad_width=erosion_iterations, mode='constant', constant_values=value)\n",
    "        \n",
    "        # Erode the padded structure\n",
    "        eroded_padded_structure = binary_erosion(padded_structure, iterations=erosion_iterations)\n",
    "        \n",
    "        # Remove the padding after erosion\n",
    "        eroded_structure = eroded_padded_structure[\n",
    "            erosion_iterations:-erosion_iterations,\n",
    "            erosion_iterations:-erosion_iterations,\n",
    "            erosion_iterations:-erosion_iterations\n",
    "        ]\n",
    "        \n",
    "        # Ensure the eroded structure is within bounds\n",
    "        if eroded_structure.shape != structure_mask.shape:\n",
    "            eroded_structure = np.zeros_like(structure_mask)\n",
    "        \n",
    "        if dilation_iterations > 0:\n",
    "            # Dilate the original structure\n",
    "            dilated_structure = binary_dilation(structure_mask, iterations=dilation_iterations)\n",
    "        else:\n",
    "            dilated_structure = structure_mask\n",
    "        \n",
    "        # Assign the values to the result array\n",
    "        border_class = dilated_structure & ~structure_mask\n",
    "        result[border_class] = 1  # Border class\n",
    "        result[eroded_structure] = 2  # Foreground class (overwrites the border if applicable)\n",
    "\n",
    "    # Save the processed array back to an .nrrd file\n",
    "    output_path = os.path.join(label_dir, f\"tri_class_{os.path.basename(nrrd_path)}\")\n",
    "    nrrd.write(output_path, result, header)\n",
    "    print(f\"Processed and saved: {output_path}\")\n",
    "\n",
    "def process_nrrd_files(root_dir):\n",
    "    for subdir, _, files in os.walk(root_dir):\n",
    "        if os.path.basename(subdir) == 'original_labels':\n",
    "            # Determine the corresponding 'label' directory\n",
    "            label_dir = os.path.join(os.path.dirname(subdir), 'label')\n",
    "            os.makedirs(label_dir, exist_ok=True)\n",
    "\n",
    "            # Prepare the arguments for parallel processing\n",
    "            nrrd_paths = [os.path.join(subdir, file) for file in files if file.endswith('.nrrd')]\n",
    "            args = [(nrrd_path, label_dir) for nrrd_path in nrrd_paths]\n",
    "            for a in args:\n",
    "                print(f\"Queueing: {a}\")\n",
    "\n",
    "            # Use ProcessPoolExecutor for parallel processing\n",
    "            with ProcessPoolExecutor() as executor:\n",
    "                futures = [executor.submit(process_nrrd_file, *arg) for arg in args]\n",
    "                for future in futures:\n",
    "                    future.result()  # This will re-raise any exceptions caught during processing\n"
   ]
  },
  {
   "cell_type": "code",
   "execution_count": 65,
   "metadata": {},
   "outputs": [
    {
     "name": "stdout",
     "output_type": "stream",
     "text": [
      "Queueing: ('/home/james/Documents/VS/3dUnet-tri-class/data/Vesuvius/test/original_labels/manual_1_label.nrrd', '/home/james/Documents/VS/3dUnet-tri-class/data/Vesuvius/test/label')\n",
      "Queueing: ('/home/james/Documents/VS/3dUnet-tri-class/data/Vesuvius/test/original_labels/manual_2_label.nrrd', '/home/james/Documents/VS/3dUnet-tri-class/data/Vesuvius/test/label')\n",
      "Processing: /home/james/Documents/VS/3dUnet-tri-class/data/Vesuvius/test/original_labels/manual_2_label.nrrdProcessing: /home/james/Documents/VS/3dUnet-tri-class/data/Vesuvius/test/original_labels/manual_1_label.nrrd\n",
      "\n",
      "Unique values: [ 2  3  4  5  6  7  8  9 10]\n",
      "Unique values: [ 1  2  4  5  6  7  8  9 10 11 12 13 14]\n",
      "Processed and saved: /home/james/Documents/VS/3dUnet-tri-class/data/Vesuvius/test/label/tri_class_manual_2_label.nrrd\n",
      "Processed and saved: /home/james/Documents/VS/3dUnet-tri-class/data/Vesuvius/test/label/tri_class_manual_1_label.nrrd\n"
     ]
    }
   ],
   "source": [
    "import os\n",
    "\n",
    "# Get the current working directory\n",
    "current_directory = os.getcwd()\n",
    "root_directory = f'{current_directory}/data/Vesuvius/test'\n",
    "process_nrrd_files(root_directory)"
   ]
  },
  {
   "cell_type": "code",
   "execution_count": 60,
   "metadata": {},
   "outputs": [
    {
     "name": "stdout",
     "output_type": "stream",
     "text": [
      "[0 1 2]\n"
     ]
    },
    {
     "data": {
      "application/vnd.jupyter.widget-view+json": {
       "model_id": "ca4d11c1d13f476e8a3c9acbf44a1ff5",
       "version_major": 2,
       "version_minor": 0
      },
      "text/plain": [
       "interactive(children=(IntSlider(value=10, description='slice_index', max=255), IntSlider(value=0, description=…"
      ]
     },
     "metadata": {},
     "output_type": "display_data"
    },
    {
     "data": {
      "text/plain": [
       "<function __main__.plot_slice(slice_index, axis=0)>"
      ]
     },
     "execution_count": 60,
     "metadata": {},
     "output_type": "execute_result"
    }
   ],
   "source": [
    "# plot the tri-class segmentation label\n",
    "init_slice = 0\n",
    "current_directory = os.getcwd()\n",
    "data_split = 'test'\n",
    "data_type = 'label'\n",
    "filename = 'manual_2'\n",
    "# filename = 'tri_class_manual_1_iters_76_rot_0_densified_label.nrrd'\n",
    "pred = nrrd.read(f'{current_directory}/data/Vesuvius/{data_split}/{data_type}/tri_class_{filename}_label.nrrd')[0]\n",
    "print(np.unique(pred))\n",
    "# pred = nrrd.read(f'{os.getcwd()}/data/Vesuvius/val/raw/manual_1_raw.nrrd')[0]\n",
    "#show final clipped instance segmentation\n",
    "def plot_slice(slice_index, axis=0):\n",
    "    plt.figure(figsize=(8, 6))\n",
    "    if axis == 1:\n",
    "        plt.imshow(pred[:,slice_index,:])\n",
    "    elif axis == 2:\n",
    "        plt.imshow(pred[:,:,slice_index])\n",
    "    else:\n",
    "        plt.imshow(pred[slice_index,:,:])\n",
    "    plt.colorbar()\n",
    "    plt.title(f'Slice {slice_index}')\n",
    "    plt.show()\n",
    "\n",
    "interact(plot_slice, slice_index=IntSlider(min=0, max=pred.shape[0]-1, step=1, value=init_slice), axis=IntSlider(min=0, max=2, step=1, value=0))"
   ]
  },
  {
   "cell_type": "code",
   "execution_count": 61,
   "metadata": {},
   "outputs": [
    {
     "data": {
      "application/vnd.jupyter.widget-view+json": {
       "model_id": "a98b655b63ee4c7ab85040868a134be0",
       "version_major": 2,
       "version_minor": 0
      },
      "text/plain": [
       "interactive(children=(IntSlider(value=10, description='slice_index', max=255), IntSlider(value=0, description=…"
      ]
     },
     "metadata": {},
     "output_type": "display_data"
    },
    {
     "data": {
      "text/plain": [
       "<function __main__.plot_slice(slice_index, axis=0)>"
      ]
     },
     "execution_count": 61,
     "metadata": {},
     "output_type": "execute_result"
    }
   ],
   "source": [
    "#plot the tri class label on raw data\n",
    "current_directory = os.getcwd()\n",
    "# filename = 'manual_1_iters_76_rot_1_densified'\n",
    "pred = nrrd.read(f'{current_directory}/data/Vesuvius/{data_split}/label/tri_class_{filename}_label.nrrd')[0]\n",
    "raw_data = nrrd.read(f'{current_directory}/data/Vesuvius/{data_split}/raw/{filename}_raw.nrrd')[0]\n",
    "\n",
    "if raw_data.dtype != np.int16 and raw_data.dtype != np.int32:\n",
    "        normalized_arr = (raw_data - raw_data.min()) / (raw_data.max() - raw_data.min())\n",
    "        raw_data = (normalized_arr * np.iinfo(np.int16).max).astype(np.int16)\n",
    "\n",
    "# pred = nrrd.read(f'{os.getcwd()}/data/Vesuvius/val/raw/manual_1_raw.nrrd')[0]\n",
    "#show final clipped instance segmentation\n",
    "def plot_slice(slice_index, axis=0):\n",
    "    plt.figure(figsize=(8, 6))\n",
    "    if axis == 1:\n",
    "        plt.imshow(mark_boundaries_color(raw_data[:,slice_index,:], pred[:,slice_index,:]))\n",
    "    elif axis == 2:\n",
    "        plt.imshow(mark_boundaries_color(raw_data[:,:,slice_index], pred[:,:,slice_index]))\n",
    "    else:\n",
    "        plt.imshow(mark_boundaries_color(raw_data[slice_index,:,:], pred[slice_index,:,:]))\n",
    "    plt.colorbar()\n",
    "    plt.title(f'Slice {slice_index}')\n",
    "    plt.show()\n",
    "\n",
    "interact(plot_slice, slice_index=IntSlider(min=0, max=pred.shape[0]-1, step=1, value=init_slice), axis=IntSlider(min=0, max=2, step=1, value=0))"
   ]
  },
  {
   "cell_type": "code",
   "execution_count": 62,
   "metadata": {},
   "outputs": [
    {
     "name": "stdout",
     "output_type": "stream",
     "text": [
      "(256, 256, 256) 0 2\n",
      "Max value in fg: 9\n"
     ]
    }
   ],
   "source": [
    "import os\n",
    "import nrrd\n",
    "import matplotlib.pyplot as plt\n",
    "from ipywidgets import interact, IntSlider\n",
    "import scipy.ndimage\n",
    "\n",
    "# Ensure we are in the correct directory\n",
    "current_directory = os.getcwd()\n",
    "\n",
    "# filename = 'tri_class_manual_1_iters_76_rot_0_densified_label.nrrd'\n",
    "pred = nrrd.read(f'{current_directory}/data/Vesuvius/{data_split}/{data_type}/tri_class_{filename}_label.nrrd')[0]\n",
    "foreground = pred == 2\n",
    "\n",
    "# Label the connected components\n",
    "fg, num_features = scipy.ndimage.label(foreground)\n",
    "\n",
    "# Define minimum size threshold\n",
    "min_size = 100000  # Adjust this value based on your specific needs\n",
    "\n",
    "# Calculate the size of each structure\n",
    "structure_sizes = np.array(scipy.ndimage.sum(foreground, fg, range(num_features + 1)))\n",
    "\n",
    "# Create a mask to remove small structures\n",
    "remove_mask = structure_sizes < min_size\n",
    "remove_mask[0] = 0  # Ensure the background is not removed\n",
    "\n",
    "# Remove small structures\n",
    "fg[remove_mask[fg]] = 0\n",
    "\n",
    "# Relabel the structures after removal\n",
    "fg, num_features = scipy.ndimage.label(fg > 0)\n",
    "max_value = fg.max()\n",
    "\n",
    "max_value = fg.max()\n",
    "if fg.max() > 30:\n",
    "    max_value = None\n",
    "\n",
    "print(pred.shape, pred.min(), pred.max())\n",
    "print(\"Max value in fg:\", max_value)"
   ]
  },
  {
   "cell_type": "code",
   "execution_count": 63,
   "metadata": {},
   "outputs": [
    {
     "data": {
      "application/vnd.jupyter.widget-view+json": {
       "model_id": "311a9e7b72d94514aa1f83cf14411ec8",
       "version_major": 2,
       "version_minor": 0
      },
      "text/plain": [
       "interactive(children=(IntSlider(value=10, description='slice_index', max=255), IntSlider(value=0, description=…"
      ]
     },
     "metadata": {},
     "output_type": "display_data"
    },
    {
     "data": {
      "text/plain": [
       "<function __main__.plot_slice(slice_index, axis=0)>"
      ]
     },
     "execution_count": 63,
     "metadata": {},
     "output_type": "execute_result"
    }
   ],
   "source": [
    "# Define the function to plot a slice\n",
    "def plot_slice(slice_index, axis=0):\n",
    "    plt.figure(figsize=(8, 6))\n",
    "    if axis == 1:\n",
    "        plt.imshow(fg[:, slice_index, :], vmin=0, vmax=max_value)\n",
    "    elif axis == 2:\n",
    "        plt.imshow(fg[:, :, slice_index], vmin=0, vmax=max_value)\n",
    "    else:\n",
    "        plt.imshow(fg[slice_index, :, :], vmin=0, vmax=max_value)\n",
    "    plt.colorbar()\n",
    "    plt.title(f'Slice {slice_index}')\n",
    "    plt.show()\n",
    "\n",
    "# Create interactive widget\n",
    "interact(plot_slice, \n",
    "         slice_index=IntSlider(min=0, max=pred.shape[0]-1, step=1, value=init_slice),\n",
    "         axis=IntSlider(min=0, max=2, step=1, value=0))"
   ]
  },
  {
   "cell_type": "code",
   "execution_count": 57,
   "metadata": {},
   "outputs": [],
   "source": [
    "import scipy.ndimage\n",
    "def label_foreground_structures(input_array, min_size=100000): #use aggressize min_size to remove small structures, then decent overlap stride to get ones that are erronously cut off on the edges\n",
    "    # Find connected components in the foreground (value 2)\n",
    "    foreground = (input_array == 2)\n",
    "    \n",
    "    # Label connected components\n",
    "    labeled_array, num_features = scipy.ndimage.label(foreground)\n",
    "    \n",
    "    # Measure the size of each connected component\n",
    "    component_sizes = np.bincount(labeled_array.ravel())\n",
    "    \n",
    "    # Create a mask for components larger than the minimum size\n",
    "    large_components = component_sizes >= min_size\n",
    "    \n",
    "    # Ensure background is not considered a component\n",
    "    large_components[0] = False\n",
    "    \n",
    "    # Create a filtered array to hold only large components\n",
    "    filtered_array = labeled_array.copy()\n",
    "    \n",
    "    # Set small components to 0 (background)\n",
    "    filtered_array[~large_components[labeled_array]] = 0\n",
    "    \n",
    "    print(f\"Number of connected foreground structures before filtering: {num_features}\")\n",
    "    print(f\"Number of connected foreground structures after filtering: {np.max(filtered_array)}\")\n",
    "    \n",
    "    return filtered_array\n"
   ]
  },
  {
   "cell_type": "code",
   "execution_count": 58,
   "metadata": {},
   "outputs": [
    {
     "name": "stdout",
     "output_type": "stream",
     "text": [
      "Number of connected foreground structures before filtering: 207\n",
      "Number of connected foreground structures after filtering: 12\n",
      "[ 0  1  2  4  5  6  7  8  9 10 11 12 13 14]\n"
     ]
    }
   ],
   "source": [
    "labeled_arr = label_foreground_structures(pred)\n",
    "img_path = f'{current_directory}/data/Vesuvius/{data_split}/raw/{filename}_raw.nrrd'\n",
    "img, _ = nrrd.read(img_path)\n",
    "gt_label = nrrd.read(f'{current_directory}/data/Vesuvius/{data_split}/original_labels/{filename}_label.nrrd')[0]\n",
    "print(np.unique(gt_label))"
   ]
  },
  {
   "cell_type": "code",
   "execution_count": 59,
   "metadata": {},
   "outputs": [
    {
     "data": {
      "application/vnd.jupyter.widget-view+json": {
       "model_id": "5526b77ab2884554b108787f7de6c258",
       "version_major": 2,
       "version_minor": 0
      },
      "text/plain": [
       "interactive(children=(IntSlider(value=10, description='slice_index', max=255), IntSlider(value=0, description=…"
      ]
     },
     "metadata": {},
     "output_type": "display_data"
    },
    {
     "data": {
      "text/plain": [
       "<function __main__.plot_slice(slice_index, axis=0)>"
      ]
     },
     "execution_count": 59,
     "metadata": {},
     "output_type": "execute_result"
    }
   ],
   "source": [
    "def plot_slice(slice_index, axis=0):\n",
    "    plt.figure(figsize=(8, 6))\n",
    "    if axis == 1:\n",
    "        plt.imshow(mark_boundaries_color(img[:,slice_index,:], labeled_arr[:,slice_index,:]))\n",
    "    elif axis == 2:\n",
    "        plt.imshow(mark_boundaries_color(img[:,:,slice_index], labeled_arr[:,:,slice_index]))\n",
    "    else:\n",
    "        plt.imshow(mark_boundaries_color(img[slice_index,:,:], labeled_arr[slice_index,:,:]))\n",
    "    plt.colorbar()\n",
    "    plt.title(f'Slice {slice_index}')\n",
    "    plt.show()\n",
    "\n",
    "interact(plot_slice, slice_index=IntSlider(min=0, max=pred.shape[0]-1, step=1, value=init_slice), axis=IntSlider(min=0, max=2, step=1, value=0))"
   ]
  },
  {
   "cell_type": "code",
   "execution_count": 52,
   "metadata": {},
   "outputs": [
    {
     "data": {
      "application/vnd.jupyter.widget-view+json": {
       "model_id": "c720174efb7543a7be28624d01d5d55d",
       "version_major": 2,
       "version_minor": 0
      },
      "text/plain": [
       "interactive(children=(IntSlider(value=10, description='slice_index', max=255), IntSlider(value=0, description=…"
      ]
     },
     "metadata": {},
     "output_type": "display_data"
    },
    {
     "data": {
      "text/plain": [
       "<function __main__.plot_slice(slice_index, axis=0)>"
      ]
     },
     "execution_count": 52,
     "metadata": {},
     "output_type": "execute_result"
    }
   ],
   "source": [
    "from ipywidgets import interact, IntSlider\n",
    "import matplotlib.pyplot as plt\n",
    "pred2 = nrrd.read(f'{current_directory}/data/Vesuvius/{data_split}/original_labels/{filename}_label.nrrd')[0]\n",
    "#show final clipped instance segmentation\n",
    "def plot_slice(slice_index, axis=0):\n",
    "    plt.figure(figsize=(8, 6))\n",
    "    if axis == 1:\n",
    "        plt.imshow(pred2[:,slice_index,:])\n",
    "    elif axis == 2:\n",
    "        plt.imshow(pred2[:,:,slice_index])\n",
    "    else:\n",
    "        plt.imshow(pred2[slice_index,:,:])\n",
    "    plt.colorbar()\n",
    "    plt.title(f'Slice {slice_index}')\n",
    "    plt.show()\n",
    "\n",
    "interact(plot_slice, slice_index=IntSlider(min=0, max=pred2.shape[0]-1, step=1, value=init_slice), axis=IntSlider(min=0, max=2, step=1, value=0))"
   ]
  },
  {
   "cell_type": "code",
   "execution_count": null,
   "metadata": {},
   "outputs": [],
   "source": [
    "import os\n",
    "import h5py\n",
    "import nrrd\n",
    "import numpy as np\n",
    "\n",
    "def create_hdf5_files(raw_dir, label_dir, output_dir, weight_dir=None):\n",
    "    # Ensure output directory exists\n",
    "    os.makedirs(output_dir, exist_ok=True)\n",
    "\n",
    "    for raw_filename in os.listdir(raw_dir):\n",
    "        if raw_filename.endswith('.nrrd'):\n",
    "            # Construct full file paths for raw and label\n",
    "            raw_path = os.path.join(raw_dir, raw_filename)\n",
    "            base_name = '_'.join(raw_filename.split('_')[:-1])\n",
    "            label_filename = \"tri_class_\"+base_name+'_label.nrrd'\n",
    "            label_path = os.path.join(label_dir, label_filename)\n",
    "\n",
    "            print(f\"Processing: {raw_filename} and {label_filename}\")\n",
    "            \n",
    "            if not os.path.exists(label_path):\n",
    "                print(f\"Label file not found for {label_filename}\")\n",
    "                label_filename = f\"tri_class_{raw_filename}\"\n",
    "                print(f\"trying {label_filename}\")\n",
    "                label_path = os.path.join(label_dir, label_filename)\n",
    "            if not os.path.exists(label_path):\n",
    "                print(f\"Label file not found for {raw_filename}, skipping.\")\n",
    "                continue\n",
    "            \n",
    "            # Read raw and label data\n",
    "            raw_data, raw_header = nrrd.read(raw_path)\n",
    "            label_data, label_header = nrrd.read(label_path)\n",
    "            \n",
    "            # Optionally read weight data\n",
    "            weight_data = None\n",
    "            if weight_dir:\n",
    "                weight_path = os.path.join(weight_dir, label_filename)\n",
    "                if os.path.exists(weight_path):\n",
    "                    weight_data, weight_header = nrrd.read(weight_path)\n",
    "            \n",
    "            # Convert to numpy arrays\n",
    "            raw_data = np.asarray(raw_data, dtype=np.float32)\n",
    "            label_data = np.asarray(label_data, dtype=np.uint8)\n",
    "            if weight_data is not None:\n",
    "                weight_data = np.asarray(weight_data, dtype=np.float32)\n",
    "            \n",
    "            # Construct output file path\n",
    "            output_filename = base_name + '.h5'\n",
    "            output_path = os.path.join(output_dir, output_filename)\n",
    "            \n",
    "            # Create HDF5 file\n",
    "            with h5py.File(output_path, 'w') as hdf5_file:\n",
    "                hdf5_file.create_dataset('raw', data=raw_data, dtype='float32')\n",
    "                hdf5_file.create_dataset('label', data=label_data, dtype='uint8')\n",
    "                if weight_data is not None:\n",
    "                    hdf5_file.create_dataset('weight', data=weight_data, dtype='float32')\n",
    "            \n",
    "            print(f\"Processed and saved {raw_filename} and {label_filename} to {output_path}\")"
   ]
  },
  {
   "cell_type": "code",
   "execution_count": null,
   "metadata": {},
   "outputs": [],
   "source": [
    "current_directory = os.getcwd()\n",
    "sub_dir = 'test'\n",
    "raw_directory = f'{current_directory}/data/Vesuvius/{sub_dir}/raw'\n",
    "label_directory = f'{current_directory}/data/Vesuvius/{sub_dir}/label'\n",
    "output_hdf5_path = f'{current_directory}/data/Vesuvius/{sub_dir}/dataset'\n",
    "create_hdf5_files(raw_directory, label_directory, output_hdf5_path)"
   ]
  },
  {
   "cell_type": "code",
   "execution_count": null,
   "metadata": {},
   "outputs": [],
   "source": [
    "sub_dir = 'val'\n",
    "raw_directory = f'{current_directory}/data/Vesuvius/{sub_dir}/raw'\n",
    "label_directory = f'{current_directory}/data/Vesuvius/{sub_dir}/label'\n",
    "output_hdf5_path = f'{current_directory}/data/Vesuvius/{sub_dir}/dataset'\n",
    "create_hdf5_files(raw_directory, label_directory, output_hdf5_path)"
   ]
  },
  {
   "cell_type": "code",
   "execution_count": null,
   "metadata": {},
   "outputs": [],
   "source": [
    "sub_dir = 'train'\n",
    "raw_directory = f'{current_directory}/data/Vesuvius/{sub_dir}/raw'\n",
    "label_directory = f'{current_directory}/data/Vesuvius/{sub_dir}/label'\n",
    "output_hdf5_path = f'{current_directory}/data/Vesuvius/{sub_dir}/dataset'\n",
    "create_hdf5_files(raw_directory, label_directory, output_hdf5_path)"
   ]
  },
  {
   "cell_type": "code",
   "execution_count": null,
   "metadata": {},
   "outputs": [],
   "source": [
    "#visualise a slice from each training dataset\n",
    "import os\n",
    "import h5py\n",
    "import numpy as np\n",
    "import matplotlib.pyplot as plt\n",
    "\n",
    "def display_h5_slices(folder_path, slice_index=0):\n",
    "    for file in os.listdir(folder_path):\n",
    "        if file.endswith('.h5'):\n",
    "            file_path = os.path.join(folder_path, file)\n",
    "            with h5py.File(file_path, 'r') as h5_file:\n",
    "                if 'raw' in h5_file and 'label' in h5_file:\n",
    "                    raw_data = h5_file['raw']\n",
    "                    label_data = h5_file['label']\n",
    "                    \n",
    "                    # Check if the slice_index is within bounds\n",
    "                    if slice_index < raw_data.shape[0] and slice_index < label_data.shape[0]:\n",
    "                        raw_slice = raw_data[slice_index, :, :]\n",
    "                        label_slice = label_data[slice_index, :, :]\n",
    "                        \n",
    "                        fig, axes = plt.subplots(1, 2, figsize=(10, 5))\n",
    "                        axes[0].imshow(raw_slice, cmap='gray')\n",
    "                        axes[0].set_title('Raw Data')\n",
    "                        axes[1].imshow(label_slice, cmap='gray')\n",
    "                        axes[1].set_title('Label Data')\n",
    "                        plt.suptitle(f\"File: {file}, Slice: {slice_index}\")\n",
    "                        plt.show()\n",
    "                    else:\n",
    "                        print(f\"Slice index {slice_index} out of bounds for file: {file}\")\n",
    "\n",
    "current_directory = os.getcwd()\n",
    "h5_folder = f'{current_directory}/data/Vesuvius/train/dataset'\n",
    "display_h5_slices(h5_folder)"
   ]
  }
 ],
 "metadata": {
  "kernelspec": {
   "display_name": "ML_Normals",
   "language": "python",
   "name": "python3"
  },
  "language_info": {
   "codemirror_mode": {
    "name": "ipython",
    "version": 3
   },
   "file_extension": ".py",
   "mimetype": "text/x-python",
   "name": "python",
   "nbconvert_exporter": "python",
   "pygments_lexer": "ipython3",
   "version": "3.12.3"
  }
 },
 "nbformat": 4,
 "nbformat_minor": 2
}
