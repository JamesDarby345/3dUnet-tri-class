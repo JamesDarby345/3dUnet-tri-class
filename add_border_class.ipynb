{
 "cells": [
  {
   "cell_type": "code",
   "execution_count": 1,
   "metadata": {},
   "outputs": [],
   "source": [
    "import os\n",
    "import nrrd\n",
    "import numpy as np\n",
    "from scipy.ndimage import binary_dilation\n",
    "from helpers import *"
   ]
  },
  {
   "cell_type": "code",
   "execution_count": 2,
   "metadata": {},
   "outputs": [],
   "source": [
    "#helper to move and rename nrrd files\n",
    "import shutil\n",
    "\n",
    "def rename_and_move_nrrd_files(root_dir):\n",
    "    for subdir, _, files in os.walk(root_dir):\n",
    "        if os.path.basename(subdir) == 'original_labels':\n",
    "            raw_dir = os.path.join(os.path.dirname(subdir), 'raw')\n",
    "            os.makedirs(raw_dir, exist_ok=True)\n",
    "            \n",
    "            for file in files:\n",
    "                old_path = os.path.join(subdir, file)\n",
    "                \n",
    "                if file.endswith('_data.nrrd'):\n",
    "                    new_filename = file.replace('_data.nrrd', '_raw.nrrd')\n",
    "                    new_path = os.path.join(raw_dir, new_filename)\n",
    "                elif file.endswith('_raw.nrrd'):\n",
    "                    new_path = os.path.join(raw_dir, file)\n",
    "                else:\n",
    "                    continue  # Skip files that do not match the criteria\n",
    "                \n",
    "                shutil.move(old_path, new_path)\n",
    "                print(f\"Moved and renamed: {old_path} -> {new_path}\")"
   ]
  },
  {
   "cell_type": "code",
   "execution_count": 3,
   "metadata": {},
   "outputs": [],
   "source": [
    "if False:\n",
    "    current_directory = os.getcwd()\n",
    "    root_directory = f'{current_directory}/data/Vesuvius/'\n",
    "    rename_and_move_nrrd_files(root_directory)"
   ]
  },
  {
   "cell_type": "code",
   "execution_count": 4,
   "metadata": {},
   "outputs": [],
   "source": [
    "import os\n",
    "import nrrd\n",
    "import numpy as np\n",
    "from scipy.ndimage import binary_dilation, binary_closing\n",
    "\n",
    "from concurrent.futures import ProcessPoolExecutor\n",
    "\n",
    "def process_nrrd_file(nrrd_path, label_dir):\n",
    "    # print(f\"Processing: {nrrd_path}\")\n",
    "    data, header = nrrd.read(nrrd_path)\n",
    "    unique_values = np.unique(data[data > 0])  # Ignore background & masking\n",
    "    # print(len(unique_values))\n",
    "\n",
    "    # Create an empty array for the result\n",
    "    result = np.zeros_like(data, dtype=np.uint8)\n",
    "\n",
    "    for value in unique_values:\n",
    "        structure_mask = data == value\n",
    "        \n",
    "        # Fill small holes in the structure (if needed)\n",
    "        closed_structure = structure_mask  # Assuming this operation is needed\n",
    "        \n",
    "        # Dilate the closed structure\n",
    "        dilated_mask = binary_dilation(closed_structure, iterations=3)\n",
    "        \n",
    "        # Assign the border class and foreground class\n",
    "        border_class = dilated_mask & ~closed_structure\n",
    "        result[dilated_mask] = 2  # Foreground class\n",
    "        result[border_class] = 1  # Border class\n",
    "\n",
    "    # Save the processed array back to an .nrrd file\n",
    "    output_path = os.path.join(label_dir, f\"tri_class_{os.path.basename(nrrd_path)}\")\n",
    "    nrrd.write(output_path, result, header)\n",
    "    print(f\"Processed and saved: {output_path}\")\n",
    "\n",
    "def process_nrrd_files(root_dir):\n",
    "    for subdir, _, files in os.walk(root_dir):\n",
    "        if os.path.basename(subdir) == 'original_labels':\n",
    "            # Determine the corresponding 'label' directory\n",
    "            label_dir = os.path.join(os.path.dirname(subdir), 'label')\n",
    "            os.makedirs(label_dir, exist_ok=True)\n",
    "\n",
    "            # Prepare the arguments for parallel processing\n",
    "            nrrd_paths = [os.path.join(subdir, file) for file in files if file.endswith('.nrrd')]\n",
    "            args = [(nrrd_path, label_dir) for nrrd_path in nrrd_paths]\n",
    "            # for a in args:\n",
    "            #     print(a)\n",
    "\n",
    "             # Use ProcessPoolExecutor for parallel processing\n",
    "            with ProcessPoolExecutor() as executor:\n",
    "                futures = [executor.submit(process_nrrd_file, *arg) for arg in args]\n",
    "                for future in futures:\n",
    "                    future.result()  # This will re-raise any exceptions caught during processing\n",
    "\n",
    "\n",
    "# def process_nrrd_files(root_dir):\n",
    "#     for subdir, _, files in os.walk(root_dir):\n",
    "#         if os.path.basename(subdir) == 'original_labels':\n",
    "#             # Determine the corresponding 'label' directory\n",
    "#             label_dir = os.path.join(os.path.dirname(subdir), 'label')\n",
    "#             os.makedirs(label_dir, exist_ok=True)\n",
    "\n",
    "#             for file in files:\n",
    "#                 if file.endswith('.nrrd'):\n",
    "#                     nrrd_path = os.path.join(subdir, file)\n",
    "#                     data, header = nrrd.read(nrrd_path)\n",
    "                    \n",
    "#                     unique_values = np.unique(data)\n",
    "#                     unique_values = unique_values[unique_values > 0]  # Ignore background & masking\n",
    "                    \n",
    "#                     # Create an empty array for the result\n",
    "#                     result = np.zeros_like(data)\n",
    "                    \n",
    "#                     for value in unique_values:\n",
    "#                         structure_mask = data == value\n",
    "                        \n",
    "#                         # Fill small holes in the structure\n",
    "#                         closed_structure = structure_mask  # Keeping this as is\n",
    "                        \n",
    "#                         # Dilate the closed structure\n",
    "#                         dilated_mask = binary_dilation(closed_structure, iterations=3)\n",
    "                        \n",
    "#                         # Assign the border class and foreground class\n",
    "#                         border_class = dilated_mask & ~closed_structure\n",
    "#                         result[~border_class & dilated_mask] = 2  # Foreground class\n",
    "#                         result[border_class] = 1  # Border class\n",
    "                    \n",
    "#                     # Save the processed array back to an .nrrd file\n",
    "#                     output_path = os.path.join(label_dir, f\"tri_class_{file}\")\n",
    "#                     nrrd.write(output_path, result, header)\n",
    "#                     print(f\"Processed and saved: {output_path}\")"
   ]
  },
  {
   "cell_type": "code",
   "execution_count": 5,
   "metadata": {},
   "outputs": [
    {
     "name": "stdout",
     "output_type": "stream",
     "text": [
      "Processed and saved: /home/james/Documents/VS/3dUnet-tri-class/data/Vesuvius/train/label/tri_class_3606_4000_8450_xyz_256_res1_s4_label.nrrd\n",
      "Processed and saved: /home/james/Documents/VS/3dUnet-tri-class/data/Vesuvius/train/label/tri_class_3606_4000_8706_xyz_256_res1_s4_label.nrrd\n",
      "Processed and saved: /home/james/Documents/VS/3dUnet-tri-class/data/Vesuvius/train/label/tri_class_3606_4256_8706_xyz_256_res1_s4_label.nrrd\n",
      "Processed and saved: /home/james/Documents/VS/3dUnet-tri-class/data/Vesuvius/train/label/tri_class_3350_4000_8706_xyz_256_res1_s4_label.nrrd\n",
      "Processed and saved: /home/james/Documents/VS/3dUnet-tri-class/data/Vesuvius/train/label/tri_class_3606_4256_8450_xyz_256_res1_s4_label.nrrd\n",
      "Processed and saved: /home/james/Documents/VS/3dUnet-tri-class/data/Vesuvius/train/label/tri_class_manual_2_iters_160_rot_0_densified_label.nrrd\n",
      "Processed and saved: /home/james/Documents/VS/3dUnet-tri-class/data/Vesuvius/train/label/tri_class_manual_2_iters_40_rot_2_densified_label.nrrd\n",
      "Processed and saved: /home/james/Documents/VS/3dUnet-tri-class/data/Vesuvius/train/label/tri_class_manual_2_iters_80_rot_1_densified_label.nrrd\n",
      "Processed and saved: /home/james/Documents/VS/3dUnet-tri-class/data/Vesuvius/train/label/tri_class_manual_2_iters_20_rot_2_densified_label.nrrd\n",
      "Processed and saved: /home/james/Documents/VS/3dUnet-tri-class/data/Vesuvius/train/label/tri_class_manual_2_iters_100_rot_0_densified_label.nrrd\n",
      "Processed and saved: /home/james/Documents/VS/3dUnet-tri-class/data/Vesuvius/train/label/tri_class_manual_2_iters_180_rot_0_densified_label.nrrd\n",
      "Processed and saved: /home/james/Documents/VS/3dUnet-tri-class/data/Vesuvius/train/label/tri_class_manual_2_iters_140_rot_0_densified_label.nrrd\n",
      "Processed and saved: /home/james/Documents/VS/3dUnet-tri-class/data/Vesuvius/train/label/tri_class_manual_1_iters_160_rot_1_densified_label.nrrd\n",
      "Processed and saved: /home/james/Documents/VS/3dUnet-tri-class/data/Vesuvius/train/label/tri_class_manual_1_iters_140_rot_1_densified_label.nrrd\n",
      "Processed and saved: /home/james/Documents/VS/3dUnet-tri-class/data/Vesuvius/train/label/tri_class_manual_1_iters_60_rot_0_densified_label.nrrd\n",
      "Processed and saved: /home/james/Documents/VS/3dUnet-tri-class/data/Vesuvius/train/label/tri_class_manual_1_iters_80_rot_0_densified_label.nrrd\n",
      "Processed and saved: /home/james/Documents/VS/3dUnet-tri-class/data/Vesuvius/train/label/tri_class_manual_1_iters_20_rot_2_densified_label.nrrd\n",
      "Processed and saved: /home/james/Documents/VS/3dUnet-tri-class/data/Vesuvius/train/label/tri_class_manual_1_iters_120_rot_1_densified_label.nrrd\n",
      "Processed and saved: /home/james/Documents/VS/3dUnet-tri-class/data/Vesuvius/train/label/tri_class_3350_4256_8450_xyz_256_res1_s4_label.nrrd\n",
      "Processed and saved: /home/james/Documents/VS/3dUnet-tri-class/data/Vesuvius/train/label/tri_class_manual_1_iters_60_rot_1_densified_label.nrrd\n",
      "Processed and saved: /home/james/Documents/VS/3dUnet-tri-class/data/Vesuvius/train/label/tri_class_manual_1_iters_76_rot_2_densified_label.nrrd\n",
      "Processed and saved: /home/james/Documents/VS/3dUnet-tri-class/data/Vesuvius/train/label/tri_class_manual_1_iters_76_rot_1_densified_label.nrrd\n",
      "Processed and saved: /home/james/Documents/VS/3dUnet-tri-class/data/Vesuvius/train/label/tri_class_manual_2_iters_140_rot_2_densified_label.nrrd\n",
      "Processed and saved: /home/james/Documents/VS/3dUnet-tri-class/data/Vesuvius/train/label/tri_class_manual_2_iters_180_rot_1_densified_label.nrrd\n",
      "Processed and saved: /home/james/Documents/VS/3dUnet-tri-class/data/Vesuvius/train/label/tri_class_manual_2_iters_120_rot_1_densified_label.nrrd\n",
      "Processed and saved: /home/james/Documents/VS/3dUnet-tri-class/data/Vesuvius/train/label/tri_class_manual_2_iters_140_rot_1_densified_label.nrrd\n",
      "Processed and saved: /home/james/Documents/VS/3dUnet-tri-class/data/Vesuvius/train/label/tri_class_manual_2_iters_20_rot_0_densified_label.nrrd\n",
      "Processed and saved: /home/james/Documents/VS/3dUnet-tri-class/data/Vesuvius/train/label/tri_class_manual_2_iters_120_rot_2_densified_label.nrrd\n",
      "Processed and saved: /home/james/Documents/VS/3dUnet-tri-class/data/Vesuvius/train/label/tri_class_3350_4000_8450_xyz_256_res1_s4_label.nrrd\n",
      "Processed and saved: /home/james/Documents/VS/3dUnet-tri-class/data/Vesuvius/train/label/tri_class_manual_2_iters_80_rot_2_densified_label.nrrd\n",
      "Processed and saved: /home/james/Documents/VS/3dUnet-tri-class/data/Vesuvius/train/label/tri_class_manual_2_iters_40_rot_1_densified_label.nrrd\n",
      "Processed and saved: /home/james/Documents/VS/3dUnet-tri-class/data/Vesuvius/train/label/tri_class_manual_2_iters_20_rot_1_densified_label.nrrd\n",
      "Processed and saved: /home/james/Documents/VS/3dUnet-tri-class/data/Vesuvius/train/label/tri_class_manual_2_iters_60_rot_0_densified_label.nrrd\n",
      "Processed and saved: /home/james/Documents/VS/3dUnet-tri-class/data/Vesuvius/train/label/tri_class_manual_2_iters_80_rot_0_densified_label.nrrd\n",
      "Processed and saved: /home/james/Documents/VS/3dUnet-tri-class/data/Vesuvius/train/label/tri_class_manual_2_iters_76_rot_1_densified_label.nrrd\n",
      "Processed and saved: /home/james/Documents/VS/3dUnet-tri-class/data/Vesuvius/train/label/tri_class_manual_1_iters_100_rot_1_densified_label.nrrd\n",
      "Processed and saved: /home/james/Documents/VS/3dUnet-tri-class/data/Vesuvius/train/label/tri_class_manual_2_iters_120_rot_0_densified_label.nrrd\n",
      "Processed and saved: /home/james/Documents/VS/3dUnet-tri-class/data/Vesuvius/train/label/tri_class_manual_1_iters_40_rot_0_densified_label.nrrd\n",
      "Processed and saved: /home/james/Documents/VS/3dUnet-tri-class/data/Vesuvius/train/label/tri_class_manual_1_iters_140_rot_0_densified_label.nrrd\n",
      "Processed and saved: /home/james/Documents/VS/3dUnet-tri-class/data/Vesuvius/train/label/tri_class_manual_1_iters_160_rot_0_densified_label.nrrd\n",
      "Processed and saved: /home/james/Documents/VS/3dUnet-tri-class/data/Vesuvius/train/label/tri_class_manual_1_iters_120_rot_0_densified_label.nrrd\n",
      "Processed and saved: /home/james/Documents/VS/3dUnet-tri-class/data/Vesuvius/train/label/tri_class_manual_1_iters_140_rot_2_densified_label.nrrd\n",
      "Processed and saved: /home/james/Documents/VS/3dUnet-tri-class/data/Vesuvius/train/label/tri_class_manual_1_iters_76_rot_0_densified_label.nrrdProcessed and saved: /home/james/Documents/VS/3dUnet-tri-class/data/Vesuvius/train/label/tri_class_manual_2_iters_40_rot_0_densified_label.nrrd\n",
      "\n",
      "Processed and saved: /home/james/Documents/VS/3dUnet-tri-class/data/Vesuvius/train/label/tri_class_3350_4256_8706_xyz_256_res1_s4_label.nrrd\n",
      "Processed and saved: /home/james/Documents/VS/3dUnet-tri-class/data/Vesuvius/train/label/tri_class_manual_1_iters_40_rot_2_densified_label.nrrd\n",
      "Processed and saved: /home/james/Documents/VS/3dUnet-tri-class/data/Vesuvius/train/label/tri_class_manual_1_iters_20_rot_0_densified_label.nrrd\n",
      "Processed and saved: /home/james/Documents/VS/3dUnet-tri-class/data/Vesuvius/train/label/tri_class_manual_2_iters_160_rot_1_densified_label.nrrd\n",
      "Processed and saved: /home/james/Documents/VS/3dUnet-tri-class/data/Vesuvius/train/label/tri_class_manual_2_iters_160_rot_2_densified_label.nrrd\n",
      "Processed and saved: /home/james/Documents/VS/3dUnet-tri-class/data/Vesuvius/train/label/tri_class_manual_2_iters_76_rot_0_densified_label.nrrd\n",
      "Processed and saved: /home/james/Documents/VS/3dUnet-tri-class/data/Vesuvius/train/label/tri_class_manual_1_iters_120_rot_2_densified_label.nrrd\n",
      "Processed and saved: /home/james/Documents/VS/3dUnet-tri-class/data/Vesuvius/train/label/tri_class_manual_1_iters_80_rot_2_densified_label.nrrd\n",
      "Processed and saved: /home/james/Documents/VS/3dUnet-tri-class/data/Vesuvius/train/label/tri_class_manual_1_iters_40_rot_1_densified_label.nrrd\n",
      "Processed and saved: /home/james/Documents/VS/3dUnet-tri-class/data/Vesuvius/train/label/tri_class_manual_1_iters_180_rot_2_densified_label.nrrd\n",
      "Processed and saved: /home/james/Documents/VS/3dUnet-tri-class/data/Vesuvius/train/label/tri_class_manual_1_iters_80_rot_1_densified_label.nrrd\n",
      "Processed and saved: /home/james/Documents/VS/3dUnet-tri-class/data/Vesuvius/train/label/tri_class_manual_2_label.nrrd\n",
      "Processed and saved: /home/james/Documents/VS/3dUnet-tri-class/data/Vesuvius/train/label/tri_class_manual_2_iters_180_rot_2_densified_label.nrrd\n",
      "Processed and saved: /home/james/Documents/VS/3dUnet-tri-class/data/Vesuvius/train/label/tri_class_manual_2_iters_100_rot_2_densified_label.nrrd\n",
      "Processed and saved: /home/james/Documents/VS/3dUnet-tri-class/data/Vesuvius/train/label/tri_class_manual_2_iters_76_rot_2_densified_label.nrrd\n",
      "Processed and saved: /home/james/Documents/VS/3dUnet-tri-class/data/Vesuvius/train/label/tri_class_manual_1_label.nrrd\n",
      "Processed and saved: /home/james/Documents/VS/3dUnet-tri-class/data/Vesuvius/train/label/tri_class_manual_1_iters_180_rot_1_densified_label.nrrd\n",
      "Processed and saved: /home/james/Documents/VS/3dUnet-tri-class/data/Vesuvius/train/label/tri_class_manual_2_iters_60_rot_2_densified_label.nrrd\n",
      "Processed and saved: /home/james/Documents/VS/3dUnet-tri-class/data/Vesuvius/train/label/tri_class_manual_1_iters_180_rot_0_densified_label.nrrd\n",
      "Processed and saved: /home/james/Documents/VS/3dUnet-tri-class/data/Vesuvius/train/label/tri_class_manual_1_iters_160_rot_2_densified_label.nrrd\n",
      "Processed and saved: /home/james/Documents/VS/3dUnet-tri-class/data/Vesuvius/train/label/tri_class_manual_2_iters_60_rot_1_densified_label.nrrd\n",
      "Processed and saved: /home/james/Documents/VS/3dUnet-tri-class/data/Vesuvius/train/label/tri_class_manual_2_iters_100_rot_1_densified_label.nrrd\n",
      "Processed and saved: /home/james/Documents/VS/3dUnet-tri-class/data/Vesuvius/train/label/tri_class_manual_1_iters_100_rot_0_densified_label.nrrd\n",
      "Processed and saved: /home/james/Documents/VS/3dUnet-tri-class/data/Vesuvius/train/label/tri_class_manual_1_iters_100_rot_2_densified_label.nrrd\n",
      "Processed and saved: /home/james/Documents/VS/3dUnet-tri-class/data/Vesuvius/train/label/tri_class_manual_1_iters_60_rot_2_densified_label.nrrd\n",
      "Processed and saved: /home/james/Documents/VS/3dUnet-tri-class/data/Vesuvius/train/label/tri_class_manual_1_iters_20_rot_1_densified_label.nrrd\n",
      "Processed and saved: /home/james/Documents/VS/3dUnet-tri-class/data/Vesuvius/test/label/tri_class_manual_2_label.nrrd\n",
      "Processed and saved: /home/james/Documents/VS/3dUnet-tri-class/data/Vesuvius/test/label/tri_class_manual_1_label.nrrd\n",
      "Processed and saved: /home/james/Documents/VS/3dUnet-tri-class/data/Vesuvius/val/label/tri_class_manual_2_label.nrrd\n"
     ]
    }
   ],
   "source": [
    "import os\n",
    "\n",
    "# Get the current working directory\n",
    "current_directory = os.getcwd()\n",
    "root_directory = f'{current_directory}/data/Vesuvius/'\n",
    "process_nrrd_files(root_directory)"
   ]
  },
  {
   "cell_type": "code",
   "execution_count": 8,
   "metadata": {},
   "outputs": [
    {
     "data": {
      "application/vnd.jupyter.widget-view+json": {
       "model_id": "bcd14d034ed4435bb1e3e7bbdc17ef86",
       "version_major": 2,
       "version_minor": 0
      },
      "text/plain": [
       "interactive(children=(IntSlider(value=0, description='slice_index', max=255), IntSlider(value=0, description='…"
      ]
     },
     "metadata": {},
     "output_type": "display_data"
    },
    {
     "data": {
      "text/plain": [
       "<function __main__.plot_slice(slice_index, axis=0)>"
      ]
     },
     "execution_count": 8,
     "metadata": {},
     "output_type": "execute_result"
    }
   ],
   "source": [
    "from ipywidgets import interact, IntSlider\n",
    "import matplotlib.pyplot as plt\n",
    "current_directory = os.getcwd()\n",
    "data_split = 'train'\n",
    "data_type = 'label'\n",
    "filename = 'tri_class_manual_1_label.nrrd'\n",
    "filename = 'tri_class_manual_1_iters_120_rot_0_densified_label.nrrd'\n",
    "pred = nrrd.read(f'{current_directory}/data/Vesuvius/{data_split}/{data_type}/{filename}')[0]\n",
    "# pred = nrrd.read(f'{os.getcwd()}/data/Vesuvius/val/raw/manual_1_raw.nrrd')[0]\n",
    "#show final clipped instance segmentation\n",
    "def plot_slice(slice_index, axis=0):\n",
    "    plt.figure(figsize=(8, 6))\n",
    "    if axis == 1:\n",
    "        plt.imshow(pred[:,slice_index,:])\n",
    "    elif axis == 2:\n",
    "        plt.imshow(pred[:,:,slice_index])\n",
    "    else:\n",
    "        plt.imshow(pred[slice_index,:,:])\n",
    "    plt.colorbar()\n",
    "    plt.title(f'Slice {slice_index}')\n",
    "    plt.show()\n",
    "\n",
    "interact(plot_slice, slice_index=IntSlider(min=0, max=pred.shape[0]-1, step=1, value=0), axis=IntSlider(min=0, max=2, step=1, value=0))"
   ]
  },
  {
   "cell_type": "code",
   "execution_count": 9,
   "metadata": {},
   "outputs": [
    {
     "name": "stdout",
     "output_type": "stream",
     "text": [
      "(256, 256, 256) 0 2\n",
      "Max value in fg: 12\n"
     ]
    },
    {
     "data": {
      "application/vnd.jupyter.widget-view+json": {
       "model_id": "39856a328ffe4283b966fa924b13abe6",
       "version_major": 2,
       "version_minor": 0
      },
      "text/plain": [
       "interactive(children=(IntSlider(value=0, description='slice_index', max=255), IntSlider(value=0, description='…"
      ]
     },
     "metadata": {},
     "output_type": "display_data"
    },
    {
     "data": {
      "text/plain": [
       "<function __main__.plot_slice(slice_index, axis=0)>"
      ]
     },
     "execution_count": 9,
     "metadata": {},
     "output_type": "execute_result"
    }
   ],
   "source": [
    "import os\n",
    "import nrrd\n",
    "import matplotlib.pyplot as plt\n",
    "from ipywidgets import interact, IntSlider\n",
    "import scipy.ndimage\n",
    "\n",
    "# Ensure we are in the correct directory\n",
    "current_directory = os.getcwd()\n",
    "\n",
    "data_split = 'train'\n",
    "data_type = 'label'\n",
    "filename = 'tri_class_manual_2_label.nrrd'\n",
    "filename = 'tri_class_manual_1_iters_120_rot_0_densified_label.nrrd'\n",
    "pred = nrrd.read(f'{current_directory}/data/Vesuvius/{data_split}/{data_type}/{filename}')[0]\n",
    "foreground = pred == 2\n",
    "\n",
    "# Label the connected components\n",
    "fg, num_features = scipy.ndimage.label(foreground)\n",
    "\n",
    "# Define minimum size threshold\n",
    "min_size = 100000  # Adjust this value based on your specific needs\n",
    "\n",
    "# Calculate the size of each structure\n",
    "structure_sizes = np.array(scipy.ndimage.sum(foreground, fg, range(num_features + 1)))\n",
    "\n",
    "# Create a mask to remove small structures\n",
    "remove_mask = structure_sizes < min_size\n",
    "remove_mask[0] = 0  # Ensure the background is not removed\n",
    "\n",
    "# Remove small structures\n",
    "fg[remove_mask[fg]] = 0\n",
    "\n",
    "# Relabel the structures after removal\n",
    "fg, num_features = scipy.ndimage.label(fg > 0)\n",
    "max_value = fg.max()\n",
    "\n",
    "max_value = fg.max()\n",
    "if fg.max() > 30:\n",
    "    max_value = None\n",
    "\n",
    "print(pred.shape, pred.min(), pred.max())\n",
    "print(\"Max value in fg:\", max_value)\n",
    "\n",
    "# Define the function to plot a slice\n",
    "def plot_slice(slice_index, axis=0):\n",
    "    plt.figure(figsize=(8, 6))\n",
    "    if axis == 1:\n",
    "        plt.imshow(fg[:, slice_index, :], vmin=0, vmax=max_value)\n",
    "    elif axis == 2:\n",
    "        plt.imshow(fg[:, :, slice_index], vmin=0, vmax=max_value)\n",
    "    else:\n",
    "        plt.imshow(fg[slice_index, :, :], vmin=0, vmax=max_value)\n",
    "    plt.colorbar()\n",
    "    plt.title(f'Slice {slice_index}')\n",
    "    plt.show()\n",
    "\n",
    "# Create interactive widget\n",
    "interact(plot_slice, \n",
    "         slice_index=IntSlider(min=0, max=pred.shape[0]-1, step=1, value=0),\n",
    "         axis=IntSlider(min=0, max=2, step=1, value=0))\n"
   ]
  },
  {
   "cell_type": "code",
   "execution_count": 10,
   "metadata": {},
   "outputs": [],
   "source": [
    "import scipy.ndimage\n",
    "def label_foreground_structures(input_array, min_size=100000): #use aggressize min_size to remove small structures, then decent overlap stride to get ones that are erronously cut off on the edges\n",
    "    # Find connected components in the foreground (value 2)\n",
    "    foreground = (input_array == 2)\n",
    "    \n",
    "    # Label connected components\n",
    "    labeled_array, num_features = scipy.ndimage.label(foreground)\n",
    "    \n",
    "    # Measure the size of each connected component\n",
    "    component_sizes = np.bincount(labeled_array.ravel())\n",
    "    \n",
    "    # Create a mask for components larger than the minimum size\n",
    "    large_components = component_sizes >= min_size\n",
    "    \n",
    "    # Ensure background is not considered a component\n",
    "    large_components[0] = False\n",
    "    \n",
    "    # Create a filtered array to hold only large components\n",
    "    filtered_array = labeled_array.copy()\n",
    "    \n",
    "    # Set small components to 0 (background)\n",
    "    filtered_array[~large_components[labeled_array]] = 0\n",
    "    \n",
    "    print(f\"Number of connected foreground structures before filtering: {num_features}\")\n",
    "    print(f\"Number of connected foreground structures after filtering: {np.max(filtered_array)}\")\n",
    "    \n",
    "    return filtered_array\n"
   ]
  },
  {
   "cell_type": "code",
   "execution_count": 13,
   "metadata": {},
   "outputs": [
    {
     "name": "stdout",
     "output_type": "stream",
     "text": [
      "Number of connected foreground structures before filtering: 219\n",
      "Number of connected foreground structures after filtering: 14\n",
      "[-1  0  1  2  4  5  6  7  8  9 10 11 12 13 14]\n"
     ]
    }
   ],
   "source": [
    "labeled_arr = label_foreground_structures(pred)\n",
    "img_path = f'{current_directory}/data/Vesuvius/train/raw/manual_1_iters_120_rot_0_densified_raw.nrrd'\n",
    "img, _ = nrrd.read(img_path)\n",
    "gt_label = nrrd.read(f'{current_directory}/data/Vesuvius/train/original_labels/manual_1_iters_120_rot_0_densified_label.nrrd')[0]\n",
    "print(np.unique(gt_label))"
   ]
  },
  {
   "cell_type": "code",
   "execution_count": 14,
   "metadata": {},
   "outputs": [
    {
     "data": {
      "application/vnd.jupyter.widget-view+json": {
       "model_id": "d226d059e7734c87a9a1d0ab16ad94c8",
       "version_major": 2,
       "version_minor": 0
      },
      "text/plain": [
       "interactive(children=(IntSlider(value=0, description='slice_index', max=255), IntSlider(value=0, description='…"
      ]
     },
     "metadata": {},
     "output_type": "display_data"
    },
    {
     "data": {
      "text/plain": [
       "<function __main__.plot_slice(slice_index, axis=0)>"
      ]
     },
     "execution_count": 14,
     "metadata": {},
     "output_type": "execute_result"
    }
   ],
   "source": [
    "def plot_slice(slice_index, axis=0):\n",
    "    plt.figure(figsize=(8, 6))\n",
    "    if axis == 1:\n",
    "        plt.imshow(mark_boundaries_color(img[:,slice_index,:], labeled_arr[:,slice_index,:]))\n",
    "    elif axis == 2:\n",
    "        plt.imshow(mark_boundaries_color(img[:,:,slice_index], labeled_arr[:,:,slice_index]))\n",
    "    else:\n",
    "        plt.imshow(mark_boundaries_color(img[slice_index,:,:], labeled_arr[slice_index,:,:]))\n",
    "    plt.colorbar()\n",
    "    plt.title(f'Slice {slice_index}')\n",
    "    plt.show()\n",
    "\n",
    "interact(plot_slice, slice_index=IntSlider(min=0, max=pred.shape[0]-1, step=1, value=0), axis=IntSlider(min=0, max=2, step=1, value=0))"
   ]
  },
  {
   "cell_type": "code",
   "execution_count": 15,
   "metadata": {},
   "outputs": [
    {
     "data": {
      "application/vnd.jupyter.widget-view+json": {
       "model_id": "c9bfda9a867b491d83e044dae8d169f7",
       "version_major": 2,
       "version_minor": 0
      },
      "text/plain": [
       "interactive(children=(IntSlider(value=0, description='slice_index', max=255), IntSlider(value=0, description='…"
      ]
     },
     "metadata": {},
     "output_type": "display_data"
    },
    {
     "data": {
      "text/plain": [
       "<function __main__.plot_slice(slice_index, axis=0)>"
      ]
     },
     "execution_count": 15,
     "metadata": {},
     "output_type": "execute_result"
    }
   ],
   "source": [
    "from ipywidgets import interact, IntSlider\n",
    "import matplotlib.pyplot as plt\n",
    "pred2 = nrrd.read(f'{current_directory}/data/Vesuvius/train/original_labels/manual_1_iters_120_rot_0_densified_label.nrrd')[0]\n",
    "#show final clipped instance segmentation\n",
    "def plot_slice(slice_index, axis=0):\n",
    "    plt.figure(figsize=(8, 6))\n",
    "    if axis == 1:\n",
    "        plt.imshow(pred2[:,slice_index,:])\n",
    "    elif axis == 2:\n",
    "        plt.imshow(pred2[:,:,slice_index])\n",
    "    else:\n",
    "        plt.imshow(pred2[slice_index,:,:])\n",
    "    plt.colorbar()\n",
    "    plt.title(f'Slice {slice_index}')\n",
    "    plt.show()\n",
    "\n",
    "interact(plot_slice, slice_index=IntSlider(min=0, max=pred2.shape[0]-1, step=1, value=0), axis=IntSlider(min=0, max=2, step=1, value=0))"
   ]
  },
  {
   "cell_type": "code",
   "execution_count": 16,
   "metadata": {},
   "outputs": [],
   "source": [
    "import os\n",
    "import h5py\n",
    "import nrrd\n",
    "import numpy as np\n",
    "\n",
    "def create_hdf5_files(raw_dir, label_dir, output_dir, weight_dir=None):\n",
    "    # Ensure output directory exists\n",
    "    os.makedirs(output_dir, exist_ok=True)\n",
    "\n",
    "    for raw_filename in os.listdir(raw_dir):\n",
    "        if raw_filename.endswith('.nrrd'):\n",
    "            # Construct full file paths for raw and label\n",
    "            raw_path = os.path.join(raw_dir, raw_filename)\n",
    "            base_name = '_'.join(raw_filename.split('_')[:-1])\n",
    "            label_filename = \"tri_class_\"+base_name+'_label.nrrd'\n",
    "            label_path = os.path.join(label_dir, label_filename)\n",
    "\n",
    "            print(f\"Processing: {raw_filename} and {label_filename}\")\n",
    "            \n",
    "            if not os.path.exists(label_path):\n",
    "                print(f\"Label file not found for {label_filename}\")\n",
    "                label_filename = f\"tri_class_{raw_filename}\"\n",
    "                print(f\"trying {label_filename}\")\n",
    "                label_path = os.path.join(label_dir, label_filename)\n",
    "            if not os.path.exists(label_path):\n",
    "                print(f\"Label file not found for {raw_filename}, skipping.\")\n",
    "                continue\n",
    "            \n",
    "            # Read raw and label data\n",
    "            raw_data, raw_header = nrrd.read(raw_path)\n",
    "            label_data, label_header = nrrd.read(label_path)\n",
    "            \n",
    "            # Optionally read weight data\n",
    "            weight_data = None\n",
    "            if weight_dir:\n",
    "                weight_path = os.path.join(weight_dir, label_filename)\n",
    "                if os.path.exists(weight_path):\n",
    "                    weight_data, weight_header = nrrd.read(weight_path)\n",
    "            \n",
    "            # Convert to numpy arrays\n",
    "            raw_data = np.asarray(raw_data, dtype=np.float32)\n",
    "            label_data = np.asarray(label_data, dtype=np.uint8)\n",
    "            if weight_data is not None:\n",
    "                weight_data = np.asarray(weight_data, dtype=np.float32)\n",
    "            \n",
    "            # Construct output file path\n",
    "            output_filename = base_name + '.h5'\n",
    "            output_path = os.path.join(output_dir, output_filename)\n",
    "            \n",
    "            # Create HDF5 file\n",
    "            with h5py.File(output_path, 'w') as hdf5_file:\n",
    "                hdf5_file.create_dataset('raw', data=raw_data, dtype='float32')\n",
    "                hdf5_file.create_dataset('label', data=label_data, dtype='uint8')\n",
    "                if weight_data is not None:\n",
    "                    hdf5_file.create_dataset('weight', data=weight_data, dtype='float32')\n",
    "            \n",
    "            print(f\"Processed and saved {raw_filename} and {label_filename} to {output_path}\")"
   ]
  },
  {
   "cell_type": "code",
   "execution_count": 17,
   "metadata": {},
   "outputs": [
    {
     "name": "stdout",
     "output_type": "stream",
     "text": [
      "Processing: manual_2_raw.nrrd and tri_class_manual_2_label.nrrd\n",
      "Processed and saved manual_2_raw.nrrd and tri_class_manual_2_label.nrrd to /home/james/Documents/VS/3dUnet-tri-class/data/Vesuvius/test/dataset/manual_2.h5\n",
      "Processing: manual_1_raw.nrrd and tri_class_manual_1_label.nrrd\n",
      "Processed and saved manual_1_raw.nrrd and tri_class_manual_1_label.nrrd to /home/james/Documents/VS/3dUnet-tri-class/data/Vesuvius/test/dataset/manual_1.h5\n"
     ]
    }
   ],
   "source": [
    "current_directory = os.getcwd()\n",
    "sub_dir = 'test'\n",
    "raw_directory = f'{current_directory}/data/Vesuvius/{sub_dir}/raw'\n",
    "label_directory = f'{current_directory}/data/Vesuvius/{sub_dir}/label'\n",
    "output_hdf5_path = f'{current_directory}/data/Vesuvius/{sub_dir}/dataset'\n",
    "create_hdf5_files(raw_directory, label_directory, output_hdf5_path)"
   ]
  },
  {
   "cell_type": "code",
   "execution_count": 20,
   "metadata": {},
   "outputs": [
    {
     "name": "stdout",
     "output_type": "stream",
     "text": [
      "Processing: manual_2_raw.nrrd and tri_class_manual_2_label.nrrd\n",
      "Processed and saved manual_2_raw.nrrd and tri_class_manual_2_label.nrrd to /home/james/Documents/VS/3dUnet-tri-class/data/Vesuvius/val/dataset/manual_2.h5\n",
      "Processing: manual_1_raw.nrrd and tri_class_manual_1_label.nrrd\n",
      "Processed and saved manual_1_raw.nrrd and tri_class_manual_1_label.nrrd to /home/james/Documents/VS/3dUnet-tri-class/data/Vesuvius/val/dataset/manual_1.h5\n"
     ]
    }
   ],
   "source": [
    "sub_dir = 'val'\n",
    "raw_directory = f'{current_directory}/data/Vesuvius/{sub_dir}/raw'\n",
    "label_directory = f'{current_directory}/data/Vesuvius/{sub_dir}/label'\n",
    "output_hdf5_path = f'{current_directory}/data/Vesuvius/{sub_dir}/dataset'\n",
    "create_hdf5_files(raw_directory, label_directory, output_hdf5_path)"
   ]
  },
  {
   "cell_type": "code",
   "execution_count": 19,
   "metadata": {},
   "outputs": [
    {
     "name": "stdout",
     "output_type": "stream",
     "text": [
      "Processing: manual_2_iters_100_rot_2_densified_raw.nrrd and tri_class_manual_2_iters_100_rot_2_densified_label.nrrd\n",
      "Processed and saved manual_2_iters_100_rot_2_densified_raw.nrrd and tri_class_manual_2_iters_100_rot_2_densified_label.nrrd to /home/james/Documents/VS/3dUnet-tri-class/data/Vesuvius/train/dataset/manual_2_iters_100_rot_2_densified.h5\n",
      "Processing: 3350_4256_8706_xyz_256_res1_s4_raw.nrrd and tri_class_3350_4256_8706_xyz_256_res1_s4_label.nrrd\n",
      "Processed and saved 3350_4256_8706_xyz_256_res1_s4_raw.nrrd and tri_class_3350_4256_8706_xyz_256_res1_s4_label.nrrd to /home/james/Documents/VS/3dUnet-tri-class/data/Vesuvius/train/dataset/3350_4256_8706_xyz_256_res1_s4.h5\n",
      "Processing: manual_1_iters_120_rot_0_densified_raw.nrrd and tri_class_manual_1_iters_120_rot_0_densified_label.nrrd\n",
      "Processed and saved manual_1_iters_120_rot_0_densified_raw.nrrd and tri_class_manual_1_iters_120_rot_0_densified_label.nrrd to /home/james/Documents/VS/3dUnet-tri-class/data/Vesuvius/train/dataset/manual_1_iters_120_rot_0_densified.h5\n",
      "Processing: manual_2_iters_76_rot_0_densified_raw.nrrd and tri_class_manual_2_iters_76_rot_0_densified_label.nrrd\n",
      "Processed and saved manual_2_iters_76_rot_0_densified_raw.nrrd and tri_class_manual_2_iters_76_rot_0_densified_label.nrrd to /home/james/Documents/VS/3dUnet-tri-class/data/Vesuvius/train/dataset/manual_2_iters_76_rot_0_densified.h5\n",
      "Processing: manual_1_iters_80_rot_2_densified_raw.nrrd and tri_class_manual_1_iters_80_rot_2_densified_label.nrrd\n",
      "Processed and saved manual_1_iters_80_rot_2_densified_raw.nrrd and tri_class_manual_1_iters_80_rot_2_densified_label.nrrd to /home/james/Documents/VS/3dUnet-tri-class/data/Vesuvius/train/dataset/manual_1_iters_80_rot_2_densified.h5\n",
      "Processing: manual_2_iters_180_rot_0_densified_raw.nrrd and tri_class_manual_2_iters_180_rot_0_densified_label.nrrd\n",
      "Processed and saved manual_2_iters_180_rot_0_densified_raw.nrrd and tri_class_manual_2_iters_180_rot_0_densified_label.nrrd to /home/james/Documents/VS/3dUnet-tri-class/data/Vesuvius/train/dataset/manual_2_iters_180_rot_0_densified.h5\n",
      "Processing: manual_2_iters_160_rot_2_densified_raw.nrrd and tri_class_manual_2_iters_160_rot_2_densified_label.nrrd\n",
      "Processed and saved manual_2_iters_160_rot_2_densified_raw.nrrd and tri_class_manual_2_iters_160_rot_2_densified_label.nrrd to /home/james/Documents/VS/3dUnet-tri-class/data/Vesuvius/train/dataset/manual_2_iters_160_rot_2_densified.h5\n",
      "Processing: manual_2_iters_40_rot_0_densified_raw.nrrd and tri_class_manual_2_iters_40_rot_0_densified_label.nrrd\n",
      "Processed and saved manual_2_iters_40_rot_0_densified_raw.nrrd and tri_class_manual_2_iters_40_rot_0_densified_label.nrrd to /home/james/Documents/VS/3dUnet-tri-class/data/Vesuvius/train/dataset/manual_2_iters_40_rot_0_densified.h5\n",
      "Processing: manual_1_iters_160_rot_2_densified_raw.nrrd and tri_class_manual_1_iters_160_rot_2_densified_label.nrrd\n",
      "Processed and saved manual_1_iters_160_rot_2_densified_raw.nrrd and tri_class_manual_1_iters_160_rot_2_densified_label.nrrd to /home/james/Documents/VS/3dUnet-tri-class/data/Vesuvius/train/dataset/manual_1_iters_160_rot_2_densified.h5\n",
      "Processing: manual_2_iters_140_rot_2_densified_raw.nrrd and tri_class_manual_2_iters_140_rot_2_densified_label.nrrd\n",
      "Processed and saved manual_2_iters_140_rot_2_densified_raw.nrrd and tri_class_manual_2_iters_140_rot_2_densified_label.nrrd to /home/james/Documents/VS/3dUnet-tri-class/data/Vesuvius/train/dataset/manual_2_iters_140_rot_2_densified.h5\n",
      "Processing: manual_1_iters_80_rot_0_densified_raw.nrrd and tri_class_manual_1_iters_80_rot_0_densified_label.nrrd\n",
      "Processed and saved manual_1_iters_80_rot_0_densified_raw.nrrd and tri_class_manual_1_iters_80_rot_0_densified_label.nrrd to /home/james/Documents/VS/3dUnet-tri-class/data/Vesuvius/train/dataset/manual_1_iters_80_rot_0_densified.h5\n",
      "Processing: 3350_4000_8450_xyz_256_res1_s4_raw.nrrd and tri_class_3350_4000_8450_xyz_256_res1_s4_label.nrrd\n",
      "Processed and saved 3350_4000_8450_xyz_256_res1_s4_raw.nrrd and tri_class_3350_4000_8450_xyz_256_res1_s4_label.nrrd to /home/james/Documents/VS/3dUnet-tri-class/data/Vesuvius/train/dataset/3350_4000_8450_xyz_256_res1_s4.h5\n",
      "Processing: manual_1_iters_180_rot_0_densified_raw.nrrd and tri_class_manual_1_iters_180_rot_0_densified_label.nrrd\n",
      "Processed and saved manual_1_iters_180_rot_0_densified_raw.nrrd and tri_class_manual_1_iters_180_rot_0_densified_label.nrrd to /home/james/Documents/VS/3dUnet-tri-class/data/Vesuvius/train/dataset/manual_1_iters_180_rot_0_densified.h5\n",
      "Processing: manual_1_iters_160_rot_1_densified_raw.nrrd and tri_class_manual_1_iters_160_rot_1_densified_label.nrrd\n",
      "Processed and saved manual_1_iters_160_rot_1_densified_raw.nrrd and tri_class_manual_1_iters_160_rot_1_densified_label.nrrd to /home/james/Documents/VS/3dUnet-tri-class/data/Vesuvius/train/dataset/manual_1_iters_160_rot_1_densified.h5\n",
      "Processing: manual_2_iters_160_rot_1_densified_raw.nrrd and tri_class_manual_2_iters_160_rot_1_densified_label.nrrd\n",
      "Processed and saved manual_2_iters_160_rot_1_densified_raw.nrrd and tri_class_manual_2_iters_160_rot_1_densified_label.nrrd to /home/james/Documents/VS/3dUnet-tri-class/data/Vesuvius/train/dataset/manual_2_iters_160_rot_1_densified.h5\n",
      "Processing: manual_2_iters_20_rot_2_densified_raw.nrrd and tri_class_manual_2_iters_20_rot_2_densified_label.nrrd\n",
      "Processed and saved manual_2_iters_20_rot_2_densified_raw.nrrd and tri_class_manual_2_iters_20_rot_2_densified_label.nrrd to /home/james/Documents/VS/3dUnet-tri-class/data/Vesuvius/train/dataset/manual_2_iters_20_rot_2_densified.h5\n",
      "Processing: manual_1_iters_76_rot_0_densified_raw.nrrd and tri_class_manual_1_iters_76_rot_0_densified_label.nrrd\n",
      "Processed and saved manual_1_iters_76_rot_0_densified_raw.nrrd and tri_class_manual_1_iters_76_rot_0_densified_label.nrrd to /home/james/Documents/VS/3dUnet-tri-class/data/Vesuvius/train/dataset/manual_1_iters_76_rot_0_densified.h5\n",
      "Processing: 3606_4000_8706_xyz_256_res1_s4_raw.nrrd and tri_class_3606_4000_8706_xyz_256_res1_s4_label.nrrd\n",
      "Processed and saved 3606_4000_8706_xyz_256_res1_s4_raw.nrrd and tri_class_3606_4000_8706_xyz_256_res1_s4_label.nrrd to /home/james/Documents/VS/3dUnet-tri-class/data/Vesuvius/train/dataset/3606_4000_8706_xyz_256_res1_s4.h5\n",
      "Processing: manual_2_iters_76_rot_1_densified_raw.nrrd and tri_class_manual_2_iters_76_rot_1_densified_label.nrrd\n",
      "Processed and saved manual_2_iters_76_rot_1_densified_raw.nrrd and tri_class_manual_2_iters_76_rot_1_densified_label.nrrd to /home/james/Documents/VS/3dUnet-tri-class/data/Vesuvius/train/dataset/manual_2_iters_76_rot_1_densified.h5\n",
      "Processing: manual_1_iters_76_rot_2_densified_raw.nrrd and tri_class_manual_1_iters_76_rot_2_densified_label.nrrd\n",
      "Processed and saved manual_1_iters_76_rot_2_densified_raw.nrrd and tri_class_manual_1_iters_76_rot_2_densified_label.nrrd to /home/james/Documents/VS/3dUnet-tri-class/data/Vesuvius/train/dataset/manual_1_iters_76_rot_2_densified.h5\n",
      "Processing: manual_1_iters_140_rot_2_densified_raw.nrrd and tri_class_manual_1_iters_140_rot_2_densified_label.nrrd\n",
      "Processed and saved manual_1_iters_140_rot_2_densified_raw.nrrd and tri_class_manual_1_iters_140_rot_2_densified_label.nrrd to /home/james/Documents/VS/3dUnet-tri-class/data/Vesuvius/train/dataset/manual_1_iters_140_rot_2_densified.h5\n",
      "Processing: manual_2_iters_160_rot_0_densified_raw.nrrd and tri_class_manual_2_iters_160_rot_0_densified_label.nrrd\n",
      "Processed and saved manual_2_iters_160_rot_0_densified_raw.nrrd and tri_class_manual_2_iters_160_rot_0_densified_label.nrrd to /home/james/Documents/VS/3dUnet-tri-class/data/Vesuvius/train/dataset/manual_2_iters_160_rot_0_densified.h5\n",
      "Processing: manual_2_iters_100_rot_0_densified_raw.nrrd and tri_class_manual_2_iters_100_rot_0_densified_label.nrrd\n",
      "Processed and saved manual_2_iters_100_rot_0_densified_raw.nrrd and tri_class_manual_2_iters_100_rot_0_densified_label.nrrd to /home/james/Documents/VS/3dUnet-tri-class/data/Vesuvius/train/dataset/manual_2_iters_100_rot_0_densified.h5\n",
      "Processing: manual_2_iters_80_rot_1_densified_raw.nrrd and tri_class_manual_2_iters_80_rot_1_densified_label.nrrd\n",
      "Processed and saved manual_2_iters_80_rot_1_densified_raw.nrrd and tri_class_manual_2_iters_80_rot_1_densified_label.nrrd to /home/james/Documents/VS/3dUnet-tri-class/data/Vesuvius/train/dataset/manual_2_iters_80_rot_1_densified.h5\n",
      "Processing: 3350_4256_8450_xyz_256_res1_s4_raw.nrrd and tri_class_3350_4256_8450_xyz_256_res1_s4_label.nrrd\n",
      "Processed and saved 3350_4256_8450_xyz_256_res1_s4_raw.nrrd and tri_class_3350_4256_8450_xyz_256_res1_s4_label.nrrd to /home/james/Documents/VS/3dUnet-tri-class/data/Vesuvius/train/dataset/3350_4256_8450_xyz_256_res1_s4.h5\n",
      "Processing: manual_1_iters_40_rot_2_densified_raw.nrrd and tri_class_manual_1_iters_40_rot_2_densified_label.nrrd\n",
      "Processed and saved manual_1_iters_40_rot_2_densified_raw.nrrd and tri_class_manual_1_iters_40_rot_2_densified_label.nrrd to /home/james/Documents/VS/3dUnet-tri-class/data/Vesuvius/train/dataset/manual_1_iters_40_rot_2_densified.h5\n",
      "Processing: manual_1_iters_120_rot_1_densified_raw.nrrd and tri_class_manual_1_iters_120_rot_1_densified_label.nrrd\n",
      "Processed and saved manual_1_iters_120_rot_1_densified_raw.nrrd and tri_class_manual_1_iters_120_rot_1_densified_label.nrrd to /home/james/Documents/VS/3dUnet-tri-class/data/Vesuvius/train/dataset/manual_1_iters_120_rot_1_densified.h5\n",
      "Processing: manual_1_iters_60_rot_1_densified_raw.nrrd and tri_class_manual_1_iters_60_rot_1_densified_label.nrrd\n",
      "Processed and saved manual_1_iters_60_rot_1_densified_raw.nrrd and tri_class_manual_1_iters_60_rot_1_densified_label.nrrd to /home/james/Documents/VS/3dUnet-tri-class/data/Vesuvius/train/dataset/manual_1_iters_60_rot_1_densified.h5\n",
      "Processing: manual_2_iters_76_rot_2_densified_raw.nrrd and tri_class_manual_2_iters_76_rot_2_densified_label.nrrd\n",
      "Processed and saved manual_2_iters_76_rot_2_densified_raw.nrrd and tri_class_manual_2_iters_76_rot_2_densified_label.nrrd to /home/james/Documents/VS/3dUnet-tri-class/data/Vesuvius/train/dataset/manual_2_iters_76_rot_2_densified.h5\n",
      "Processing: manual_1_iters_20_rot_2_densified_raw.nrrd and tri_class_manual_1_iters_20_rot_2_densified_label.nrrd\n",
      "Processed and saved manual_1_iters_20_rot_2_densified_raw.nrrd and tri_class_manual_1_iters_20_rot_2_densified_label.nrrd to /home/james/Documents/VS/3dUnet-tri-class/data/Vesuvius/train/dataset/manual_1_iters_20_rot_2_densified.h5\n",
      "Processing: manual_1_iters_100_rot_0_densified_raw.nrrd and tri_class_manual_1_iters_100_rot_0_densified_label.nrrd\n",
      "Processed and saved manual_1_iters_100_rot_0_densified_raw.nrrd and tri_class_manual_1_iters_100_rot_0_densified_label.nrrd to /home/james/Documents/VS/3dUnet-tri-class/data/Vesuvius/train/dataset/manual_1_iters_100_rot_0_densified.h5\n",
      "Processing: manual_2_iters_40_rot_1_densified_raw.nrrd and tri_class_manual_2_iters_40_rot_1_densified_label.nrrd\n",
      "Processed and saved manual_2_iters_40_rot_1_densified_raw.nrrd and tri_class_manual_2_iters_40_rot_1_densified_label.nrrd to /home/james/Documents/VS/3dUnet-tri-class/data/Vesuvius/train/dataset/manual_2_iters_40_rot_1_densified.h5\n",
      "Processing: manual_1_iters_76_rot_1_densified_raw.nrrd and tri_class_manual_1_iters_76_rot_1_densified_label.nrrd\n",
      "Processed and saved manual_1_iters_76_rot_1_densified_raw.nrrd and tri_class_manual_1_iters_76_rot_1_densified_label.nrrd to /home/james/Documents/VS/3dUnet-tri-class/data/Vesuvius/train/dataset/manual_1_iters_76_rot_1_densified.h5\n",
      "Processing: manual_1_iters_60_rot_0_densified_raw.nrrd and tri_class_manual_1_iters_60_rot_0_densified_label.nrrd\n",
      "Processed and saved manual_1_iters_60_rot_0_densified_raw.nrrd and tri_class_manual_1_iters_60_rot_0_densified_label.nrrd to /home/james/Documents/VS/3dUnet-tri-class/data/Vesuvius/train/dataset/manual_1_iters_60_rot_0_densified.h5\n",
      "Processing: manual_2_iters_120_rot_2_densified_raw.nrrd and tri_class_manual_2_iters_120_rot_2_densified_label.nrrd\n",
      "Processed and saved manual_2_iters_120_rot_2_densified_raw.nrrd and tri_class_manual_2_iters_120_rot_2_densified_label.nrrd to /home/james/Documents/VS/3dUnet-tri-class/data/Vesuvius/train/dataset/manual_2_iters_120_rot_2_densified.h5\n",
      "Processing: manual_1_iters_20_rot_0_densified_raw.nrrd and tri_class_manual_1_iters_20_rot_0_densified_label.nrrd\n",
      "Processed and saved manual_1_iters_20_rot_0_densified_raw.nrrd and tri_class_manual_1_iters_20_rot_0_densified_label.nrrd to /home/james/Documents/VS/3dUnet-tri-class/data/Vesuvius/train/dataset/manual_1_iters_20_rot_0_densified.h5\n",
      "Processing: manual_1_iters_160_rot_0_densified_raw.nrrd and tri_class_manual_1_iters_160_rot_0_densified_label.nrrd\n",
      "Processed and saved manual_1_iters_160_rot_0_densified_raw.nrrd and tri_class_manual_1_iters_160_rot_0_densified_label.nrrd to /home/james/Documents/VS/3dUnet-tri-class/data/Vesuvius/train/dataset/manual_1_iters_160_rot_0_densified.h5\n",
      "Processing: manual_2_iters_100_rot_1_densified_raw.nrrd and tri_class_manual_2_iters_100_rot_1_densified_label.nrrd\n",
      "Processed and saved manual_2_iters_100_rot_1_densified_raw.nrrd and tri_class_manual_2_iters_100_rot_1_densified_label.nrrd to /home/james/Documents/VS/3dUnet-tri-class/data/Vesuvius/train/dataset/manual_2_iters_100_rot_1_densified.h5\n",
      "Processing: manual_2_iters_20_rot_1_densified_raw.nrrd and tri_class_manual_2_iters_20_rot_1_densified_label.nrrd\n",
      "Processed and saved manual_2_iters_20_rot_1_densified_raw.nrrd and tri_class_manual_2_iters_20_rot_1_densified_label.nrrd to /home/james/Documents/VS/3dUnet-tri-class/data/Vesuvius/train/dataset/manual_2_iters_20_rot_1_densified.h5\n",
      "Processing: manual_2_iters_60_rot_1_densified_raw.nrrd and tri_class_manual_2_iters_60_rot_1_densified_label.nrrd\n",
      "Processed and saved manual_2_iters_60_rot_1_densified_raw.nrrd and tri_class_manual_2_iters_60_rot_1_densified_label.nrrd to /home/james/Documents/VS/3dUnet-tri-class/data/Vesuvius/train/dataset/manual_2_iters_60_rot_1_densified.h5\n",
      "Processing: manual_2_iters_120_rot_0_densified_raw.nrrd and tri_class_manual_2_iters_120_rot_0_densified_label.nrrd\n",
      "Processed and saved manual_2_iters_120_rot_0_densified_raw.nrrd and tri_class_manual_2_iters_120_rot_0_densified_label.nrrd to /home/james/Documents/VS/3dUnet-tri-class/data/Vesuvius/train/dataset/manual_2_iters_120_rot_0_densified.h5\n",
      "Processing: 3606_4000_8450_xyz_256_res1_s4_raw.nrrd and tri_class_3606_4000_8450_xyz_256_res1_s4_label.nrrd\n",
      "Processed and saved 3606_4000_8450_xyz_256_res1_s4_raw.nrrd and tri_class_3606_4000_8450_xyz_256_res1_s4_label.nrrd to /home/james/Documents/VS/3dUnet-tri-class/data/Vesuvius/train/dataset/3606_4000_8450_xyz_256_res1_s4.h5\n",
      "Processing: manual_1_iters_140_rot_1_densified_raw.nrrd and tri_class_manual_1_iters_140_rot_1_densified_label.nrrd\n",
      "Processed and saved manual_1_iters_140_rot_1_densified_raw.nrrd and tri_class_manual_1_iters_140_rot_1_densified_label.nrrd to /home/james/Documents/VS/3dUnet-tri-class/data/Vesuvius/train/dataset/manual_1_iters_140_rot_1_densified.h5\n",
      "Processing: 3606_4256_8450_xyz_256_res1_s4_raw.nrrd and tri_class_3606_4256_8450_xyz_256_res1_s4_label.nrrd\n",
      "Processed and saved 3606_4256_8450_xyz_256_res1_s4_raw.nrrd and tri_class_3606_4256_8450_xyz_256_res1_s4_label.nrrd to /home/james/Documents/VS/3dUnet-tri-class/data/Vesuvius/train/dataset/3606_4256_8450_xyz_256_res1_s4.h5\n",
      "Processing: manual_1_iters_60_rot_2_densified_raw.nrrd and tri_class_manual_1_iters_60_rot_2_densified_label.nrrd\n",
      "Processed and saved manual_1_iters_60_rot_2_densified_raw.nrrd and tri_class_manual_1_iters_60_rot_2_densified_label.nrrd to /home/james/Documents/VS/3dUnet-tri-class/data/Vesuvius/train/dataset/manual_1_iters_60_rot_2_densified.h5\n",
      "Processing: 3350_4000_8706_xyz_256_res1_s4_raw.nrrd and tri_class_3350_4000_8706_xyz_256_res1_s4_label.nrrd\n",
      "Processed and saved 3350_4000_8706_xyz_256_res1_s4_raw.nrrd and tri_class_3350_4000_8706_xyz_256_res1_s4_label.nrrd to /home/james/Documents/VS/3dUnet-tri-class/data/Vesuvius/train/dataset/3350_4000_8706_xyz_256_res1_s4.h5\n",
      "Processing: manual_2_iters_180_rot_2_densified_raw.nrrd and tri_class_manual_2_iters_180_rot_2_densified_label.nrrd\n",
      "Processed and saved manual_2_iters_180_rot_2_densified_raw.nrrd and tri_class_manual_2_iters_180_rot_2_densified_label.nrrd to /home/james/Documents/VS/3dUnet-tri-class/data/Vesuvius/train/dataset/manual_2_iters_180_rot_2_densified.h5\n",
      "Processing: manual_2_iters_140_rot_0_densified_raw.nrrd and tri_class_manual_2_iters_140_rot_0_densified_label.nrrd\n",
      "Processed and saved manual_2_iters_140_rot_0_densified_raw.nrrd and tri_class_manual_2_iters_140_rot_0_densified_label.nrrd to /home/james/Documents/VS/3dUnet-tri-class/data/Vesuvius/train/dataset/manual_2_iters_140_rot_0_densified.h5\n",
      "Processing: manual_1_iters_40_rot_1_densified_raw.nrrd and tri_class_manual_1_iters_40_rot_1_densified_label.nrrd\n",
      "Processed and saved manual_1_iters_40_rot_1_densified_raw.nrrd and tri_class_manual_1_iters_40_rot_1_densified_label.nrrd to /home/james/Documents/VS/3dUnet-tri-class/data/Vesuvius/train/dataset/manual_1_iters_40_rot_1_densified.h5\n",
      "Processing: manual_1_iters_40_rot_0_densified_raw.nrrd and tri_class_manual_1_iters_40_rot_0_densified_label.nrrd\n",
      "Processed and saved manual_1_iters_40_rot_0_densified_raw.nrrd and tri_class_manual_1_iters_40_rot_0_densified_label.nrrd to /home/james/Documents/VS/3dUnet-tri-class/data/Vesuvius/train/dataset/manual_1_iters_40_rot_0_densified.h5\n",
      "Processing: manual_1_iters_180_rot_2_densified_raw.nrrd and tri_class_manual_1_iters_180_rot_2_densified_label.nrrd\n",
      "Processed and saved manual_1_iters_180_rot_2_densified_raw.nrrd and tri_class_manual_1_iters_180_rot_2_densified_label.nrrd to /home/james/Documents/VS/3dUnet-tri-class/data/Vesuvius/train/dataset/manual_1_iters_180_rot_2_densified.h5\n",
      "Processing: 3606_4256_8706_xyz_256_res1_s4_raw.nrrd and tri_class_3606_4256_8706_xyz_256_res1_s4_label.nrrd\n",
      "Processed and saved 3606_4256_8706_xyz_256_res1_s4_raw.nrrd and tri_class_3606_4256_8706_xyz_256_res1_s4_label.nrrd to /home/james/Documents/VS/3dUnet-tri-class/data/Vesuvius/train/dataset/3606_4256_8706_xyz_256_res1_s4.h5\n",
      "Processing: manual_2_iters_80_rot_2_densified_raw.nrrd and tri_class_manual_2_iters_80_rot_2_densified_label.nrrd\n",
      "Processed and saved manual_2_iters_80_rot_2_densified_raw.nrrd and tri_class_manual_2_iters_80_rot_2_densified_label.nrrd to /home/james/Documents/VS/3dUnet-tri-class/data/Vesuvius/train/dataset/manual_2_iters_80_rot_2_densified.h5\n",
      "Processing: manual_2_iters_40_rot_2_densified_raw.nrrd and tri_class_manual_2_iters_40_rot_2_densified_label.nrrd\n",
      "Processed and saved manual_2_iters_40_rot_2_densified_raw.nrrd and tri_class_manual_2_iters_40_rot_2_densified_label.nrrd to /home/james/Documents/VS/3dUnet-tri-class/data/Vesuvius/train/dataset/manual_2_iters_40_rot_2_densified.h5\n",
      "Processing: manual_2_iters_20_rot_0_densified_raw.nrrd and tri_class_manual_2_iters_20_rot_0_densified_label.nrrd\n",
      "Processed and saved manual_2_iters_20_rot_0_densified_raw.nrrd and tri_class_manual_2_iters_20_rot_0_densified_label.nrrd to /home/james/Documents/VS/3dUnet-tri-class/data/Vesuvius/train/dataset/manual_2_iters_20_rot_0_densified.h5\n",
      "Processing: manual_1_iters_100_rot_1_densified_raw.nrrd and tri_class_manual_1_iters_100_rot_1_densified_label.nrrd\n",
      "Processed and saved manual_1_iters_100_rot_1_densified_raw.nrrd and tri_class_manual_1_iters_100_rot_1_densified_label.nrrd to /home/james/Documents/VS/3dUnet-tri-class/data/Vesuvius/train/dataset/manual_1_iters_100_rot_1_densified.h5\n",
      "Processing: manual_2_iters_60_rot_0_densified_raw.nrrd and tri_class_manual_2_iters_60_rot_0_densified_label.nrrd\n",
      "Processed and saved manual_2_iters_60_rot_0_densified_raw.nrrd and tri_class_manual_2_iters_60_rot_0_densified_label.nrrd to /home/james/Documents/VS/3dUnet-tri-class/data/Vesuvius/train/dataset/manual_2_iters_60_rot_0_densified.h5\n",
      "Processing: manual_2_raw.nrrd and tri_class_manual_2_label.nrrd\n",
      "Processed and saved manual_2_raw.nrrd and tri_class_manual_2_label.nrrd to /home/james/Documents/VS/3dUnet-tri-class/data/Vesuvius/train/dataset/manual_2.h5\n",
      "Processing: manual_1_iters_140_rot_0_densified_raw.nrrd and tri_class_manual_1_iters_140_rot_0_densified_label.nrrd\n",
      "Processed and saved manual_1_iters_140_rot_0_densified_raw.nrrd and tri_class_manual_1_iters_140_rot_0_densified_label.nrrd to /home/james/Documents/VS/3dUnet-tri-class/data/Vesuvius/train/dataset/manual_1_iters_140_rot_0_densified.h5\n",
      "Processing: manual_1_raw.nrrd and tri_class_manual_1_label.nrrd\n",
      "Processed and saved manual_1_raw.nrrd and tri_class_manual_1_label.nrrd to /home/james/Documents/VS/3dUnet-tri-class/data/Vesuvius/train/dataset/manual_1.h5\n",
      "Processing: manual_2_iters_180_rot_1_densified_raw.nrrd and tri_class_manual_2_iters_180_rot_1_densified_label.nrrd\n",
      "Processed and saved manual_2_iters_180_rot_1_densified_raw.nrrd and tri_class_manual_2_iters_180_rot_1_densified_label.nrrd to /home/james/Documents/VS/3dUnet-tri-class/data/Vesuvius/train/dataset/manual_2_iters_180_rot_1_densified.h5\n",
      "Processing: manual_2_iters_80_rot_0_densified_raw.nrrd and tri_class_manual_2_iters_80_rot_0_densified_label.nrrd\n",
      "Processed and saved manual_2_iters_80_rot_0_densified_raw.nrrd and tri_class_manual_2_iters_80_rot_0_densified_label.nrrd to /home/james/Documents/VS/3dUnet-tri-class/data/Vesuvius/train/dataset/manual_2_iters_80_rot_0_densified.h5\n",
      "Processing: manual_1_iters_120_rot_2_densified_raw.nrrd and tri_class_manual_1_iters_120_rot_2_densified_label.nrrd\n",
      "Processed and saved manual_1_iters_120_rot_2_densified_raw.nrrd and tri_class_manual_1_iters_120_rot_2_densified_label.nrrd to /home/james/Documents/VS/3dUnet-tri-class/data/Vesuvius/train/dataset/manual_1_iters_120_rot_2_densified.h5\n",
      "Processing: manual_1_iters_180_rot_1_densified_raw.nrrd and tri_class_manual_1_iters_180_rot_1_densified_label.nrrd\n",
      "Processed and saved manual_1_iters_180_rot_1_densified_raw.nrrd and tri_class_manual_1_iters_180_rot_1_densified_label.nrrd to /home/james/Documents/VS/3dUnet-tri-class/data/Vesuvius/train/dataset/manual_1_iters_180_rot_1_densified.h5\n",
      "Processing: manual_2_iters_120_rot_1_densified_raw.nrrd and tri_class_manual_2_iters_120_rot_1_densified_label.nrrd\n",
      "Processed and saved manual_2_iters_120_rot_1_densified_raw.nrrd and tri_class_manual_2_iters_120_rot_1_densified_label.nrrd to /home/james/Documents/VS/3dUnet-tri-class/data/Vesuvius/train/dataset/manual_2_iters_120_rot_1_densified.h5\n",
      "Processing: manual_1_iters_20_rot_1_densified_raw.nrrd and tri_class_manual_1_iters_20_rot_1_densified_label.nrrd\n",
      "Processed and saved manual_1_iters_20_rot_1_densified_raw.nrrd and tri_class_manual_1_iters_20_rot_1_densified_label.nrrd to /home/james/Documents/VS/3dUnet-tri-class/data/Vesuvius/train/dataset/manual_1_iters_20_rot_1_densified.h5\n",
      "Processing: manual_1_iters_100_rot_2_densified_raw.nrrd and tri_class_manual_1_iters_100_rot_2_densified_label.nrrd\n",
      "Processed and saved manual_1_iters_100_rot_2_densified_raw.nrrd and tri_class_manual_1_iters_100_rot_2_densified_label.nrrd to /home/james/Documents/VS/3dUnet-tri-class/data/Vesuvius/train/dataset/manual_1_iters_100_rot_2_densified.h5\n",
      "Processing: manual_2_iters_140_rot_1_densified_raw.nrrd and tri_class_manual_2_iters_140_rot_1_densified_label.nrrd\n",
      "Processed and saved manual_2_iters_140_rot_1_densified_raw.nrrd and tri_class_manual_2_iters_140_rot_1_densified_label.nrrd to /home/james/Documents/VS/3dUnet-tri-class/data/Vesuvius/train/dataset/manual_2_iters_140_rot_1_densified.h5\n",
      "Processing: manual_1_iters_80_rot_1_densified_raw.nrrd and tri_class_manual_1_iters_80_rot_1_densified_label.nrrd\n",
      "Processed and saved manual_1_iters_80_rot_1_densified_raw.nrrd and tri_class_manual_1_iters_80_rot_1_densified_label.nrrd to /home/james/Documents/VS/3dUnet-tri-class/data/Vesuvius/train/dataset/manual_1_iters_80_rot_1_densified.h5\n",
      "Processing: manual_2_iters_60_rot_2_densified_raw.nrrd and tri_class_manual_2_iters_60_rot_2_densified_label.nrrd\n",
      "Processed and saved manual_2_iters_60_rot_2_densified_raw.nrrd and tri_class_manual_2_iters_60_rot_2_densified_label.nrrd to /home/james/Documents/VS/3dUnet-tri-class/data/Vesuvius/train/dataset/manual_2_iters_60_rot_2_densified.h5\n"
     ]
    }
   ],
   "source": [
    "sub_dir = 'train'\n",
    "raw_directory = f'{current_directory}/data/Vesuvius/{sub_dir}/raw'\n",
    "label_directory = f'{current_directory}/data/Vesuvius/{sub_dir}/label'\n",
    "output_hdf5_path = f'{current_directory}/data/Vesuvius/{sub_dir}/dataset'\n",
    "create_hdf5_files(raw_directory, label_directory, output_hdf5_path)"
   ]
  }
 ],
 "metadata": {
  "kernelspec": {
   "display_name": "ML_Normals",
   "language": "python",
   "name": "python3"
  },
  "language_info": {
   "codemirror_mode": {
    "name": "ipython",
    "version": 3
   },
   "file_extension": ".py",
   "mimetype": "text/x-python",
   "name": "python",
   "nbconvert_exporter": "python",
   "pygments_lexer": "ipython3",
   "version": "3.12.3"
  }
 },
 "nbformat": 4,
 "nbformat_minor": 2
}
