{
 "cells": [
  {
   "cell_type": "code",
   "execution_count": 75,
   "metadata": {},
   "outputs": [],
   "source": [
    "import os\n",
    "import nrrd\n",
    "import numpy as np\n",
    "from scipy.ndimage import binary_dilation"
   ]
  },
  {
   "cell_type": "code",
   "execution_count": 76,
   "metadata": {},
   "outputs": [],
   "source": [
    "import numpy as np\n",
    "from skimage.color import gray2rgb, label2rgb\n",
    "from skimage.segmentation import find_boundaries\n",
    "from skimage.util import img_as_float\n",
    "from skimage.morphology import dilation, square\n",
    "import random\n",
    "\n",
    "def mark_boundaries_color(image, label_img, color=None, outline_color=None, mode='outer', background_label=0, dilation_size=1):\n",
    "    \"\"\"Return image with boundaries between labeled regions highlighted with consistent colors derived from labels.\n",
    "\n",
    "    Parameters:\n",
    "    - image: Input image.\n",
    "    - label_img: Image with labeled regions.\n",
    "    - color: Ignored in this version.\n",
    "    - outline_color: If specified, use this color for the outline. Otherwise, use the same as boundary.\n",
    "    - mode: Choose 'inner', 'outer', or 'thick' to define boundary type.\n",
    "    - background_label: Label to be treated as the background.\n",
    "    - dilation_size: Size of the dilation square for the boundaries.\n",
    "\n",
    "    Returns:\n",
    "    - Image with boundaries highlighted.\n",
    "    \"\"\"\n",
    "    # Ensure input image is in float and has three channels\n",
    "    float_dtype = np.float32  # Use float32 for efficiency\n",
    "    marked = img_as_float(image, force_copy=True).astype(float_dtype, copy=False)\n",
    "    if marked.ndim == 2:\n",
    "        marked = gray2rgb(marked)\n",
    "\n",
    "    # Create a color map normalized by the number of unique labels\n",
    "    unique_labels = np.unique(label_img)\n",
    "    color_map = plt.get_cmap('nipy_spectral')  # You can change 'nipy_spectral' to any other colormap\n",
    "\n",
    "    # Find boundaries and apply colors\n",
    "    boundaries = find_boundaries(label_img, mode=mode, background=background_label)\n",
    "    for label in unique_labels:\n",
    "        if label == background_label:\n",
    "            continue\n",
    "        # Normalize label value to the range of the colormap\n",
    "        normalized_color = color_map(label / np.max(unique_labels))[:3]  # Get RGB values only\n",
    "        label_boundaries = find_boundaries(label_img == label, mode=mode)\n",
    "        label_boundaries = dilation(label_boundaries, square(dilation_size))\n",
    "        marked[label_boundaries] = normalized_color\n",
    "        if outline_color is not None:\n",
    "            outlines = dilation(label_boundaries, square(dilation_size + 1))\n",
    "            marked[outlines] = outline_color\n",
    "        else:\n",
    "            marked[label_boundaries] = normalized_color\n",
    "\n",
    "    return marked\n",
    "\n",
    "\n",
    "def consistent_color(label):\n",
    "    \"\"\"Generate a consistent color for a given label using a hash function.\"\"\"\n",
    "    random.seed(hash(label))\n",
    "    return [random.random() for _ in range(3)]\n",
    "\n",
    "def mark_boundaries_multicolor(image, label_img, color=None, outline_color=None, mode='outer', background_label=0, dilation_size=1):\n",
    "    \"\"\"Return image with boundaries between labeled regions highlighted with consistent colors.\n",
    "\n",
    "    Parameters are the same as in the original function but color is ignored if provided.\n",
    "    \"\"\"\n",
    "    # Ensure input image is in float and has three channels\n",
    "    float_dtype = np.float32  # Use float32 for efficiency\n",
    "    marked = img_as_float(image, force_copy=True).astype(float_dtype, copy=False)\n",
    "    if marked.ndim == 2:\n",
    "        marked = gray2rgb(marked)\n",
    "\n",
    "    # Generate consistent colors for each unique label in label_img\n",
    "    unique_labels = np.unique(label_img)\n",
    "    color_map = {label: consistent_color(label) for label in unique_labels if label != background_label}\n",
    "\n",
    "    # Find boundaries and apply colors\n",
    "    boundaries = find_boundaries(label_img, mode=mode, background=background_label)\n",
    "    for label, color in color_map.items():\n",
    "        label_boundaries = find_boundaries(label_img == label, mode=mode)\n",
    "        label_boundaries = dilation(label_boundaries, square(dilation_size))\n",
    "        if outline_color is not None:\n",
    "            outlines = dilation(label_boundaries, square(dilation_size))\n",
    "            marked[outlines] = outline_color\n",
    "        marked[label_boundaries] = color\n",
    "\n",
    "    return marked\n",
    "\n",
    "def plot_segmentation_results(test_slice, segmentation):\n",
    "    fig, axes = plt.subplots(1, 2, figsize=(10, 5))\n",
    "\n",
    "    # Show marked boundary image\n",
    "    axes[0].imshow(mark_boundaries(test_slice, np.array(segmentation)))\n",
    "    axes[0].set_title(\"Marked Boundary\")\n",
    "\n",
    "    # Show unmarked boundary image\n",
    "    axes[1].imshow(test_slice, cmap='gray')\n",
    "    axes[1].set_title(\"Unmarked Boundary\")\n",
    "\n",
    "    plt.show()"
   ]
  },
  {
   "cell_type": "code",
   "execution_count": 77,
   "metadata": {},
   "outputs": [],
   "source": [
    "import os\n",
    "import nrrd\n",
    "import numpy as np\n",
    "from scipy.ndimage import binary_dilation, binary_closing\n",
    "\n",
    "def process_nrrd_files(root_dir):\n",
    "    for subdir, _, files in os.walk(root_dir):\n",
    "        if os.path.basename(subdir) == 'label':\n",
    "            for file in files:\n",
    "                if file.endswith('.nrrd'):\n",
    "                    nrrd_path = os.path.join(subdir, file)\n",
    "                    data, header = nrrd.read(nrrd_path)\n",
    "                    \n",
    "                    unique_values = np.unique(data)\n",
    "                    unique_values = unique_values[unique_values != 0]  # Ignore background\n",
    "                    \n",
    "                    # Create an empty array for the result\n",
    "                    result = np.zeros_like(data)\n",
    "                    \n",
    "                    for value in unique_values:\n",
    "                        structure_mask = data == value\n",
    "                        \n",
    "                        # Fill small holes in the structure\n",
    "                        closed_structure = structure_mask#binary_closing(structure_mask, structure=np.ones((3, 3, 3))) \n",
    "                        # for some reason doing the closing causes the dilation to dilate from the edges\n",
    "                        # without it the dialtion keeps the structure at the edge intact which is more ideal\n",
    "                        \n",
    "                        # Dilate the closed structure\n",
    "                        dilated_mask = binary_dilation(closed_structure, iterations=2)\n",
    "                        \n",
    "                        # Assign the border class and foreground class\n",
    "                        border_class = dilated_mask & ~closed_structure\n",
    "                        result[border_class] = 1  # Border class\n",
    "                        result[~border_class & dilated_mask] = 2  # Foreground class\n",
    "                    \n",
    "                    # Save the processed array back to an .nrrd file\n",
    "                    output_path = os.path.join(subdir, f\"tri_class_{file}\")\n",
    "                    nrrd.write(output_path, result, header)\n",
    "                    print(f\"Processed and saved: {output_path}\")"
   ]
  },
  {
   "cell_type": "code",
   "execution_count": 78,
   "metadata": {},
   "outputs": [
    {
     "name": "stdout",
     "output_type": "stream",
     "text": [
      "Processed and saved: /home/james/Documents/VS/pytorch-3dunet-instanceSeg/data/Vesuvius/test/label/tri_class_3350_4000_8450_xyz_256_res1_s4_label.nrrd\n",
      "Processed and saved: /home/james/Documents/VS/pytorch-3dunet-instanceSeg/data/Vesuvius/test/label/tri_class_layers_1.nrrd\n"
     ]
    }
   ],
   "source": [
    "root_directory = '/home/james/Documents/VS/pytorch-3dunet-instanceSeg/data/Vesuvius/'\n",
    "process_nrrd_files(root_directory)"
   ]
  },
  {
   "cell_type": "code",
   "execution_count": 79,
   "metadata": {},
   "outputs": [
    {
     "data": {
      "application/vnd.jupyter.widget-view+json": {
       "model_id": "c3ab3d3577dc4884ad77bbada018d5f7",
       "version_major": 2,
       "version_minor": 0
      },
      "text/plain": [
       "interactive(children=(IntSlider(value=0, description='slice_index', max=255), IntSlider(value=0, description='…"
      ]
     },
     "metadata": {},
     "output_type": "display_data"
    },
    {
     "data": {
      "text/plain": [
       "<function __main__.plot_slice(slice_index, axis=0)>"
      ]
     },
     "execution_count": 79,
     "metadata": {},
     "output_type": "execute_result"
    }
   ],
   "source": [
    "from ipywidgets import interact, IntSlider\n",
    "import matplotlib.pyplot as plt\n",
    "pred = nrrd.read('/home/james/Documents/VS/pytorch-3dunet-instanceSeg/data/Vesuvius/test/label/tri_class_layers_1.nrrd')[0]\n",
    "#show final clipped instance segmentation\n",
    "def plot_slice(slice_index, axis=0):\n",
    "    plt.figure(figsize=(8, 6))\n",
    "    if axis == 1:\n",
    "        plt.imshow(pred[:,slice_index,:])\n",
    "    elif axis == 2:\n",
    "        plt.imshow(pred[:,:,slice_index])\n",
    "    else:\n",
    "        plt.imshow(pred[slice_index,:,:])\n",
    "    plt.colorbar()\n",
    "    plt.title(f'Slice {slice_index}')\n",
    "    plt.show()\n",
    "\n",
    "interact(plot_slice, slice_index=IntSlider(min=0, max=pred.shape[0]-1, step=1, value=0), axis=IntSlider(min=0, max=2, step=1, value=0))"
   ]
  },
  {
   "cell_type": "code",
   "execution_count": 80,
   "metadata": {},
   "outputs": [
    {
     "data": {
      "application/vnd.jupyter.widget-view+json": {
       "model_id": "27523aecd02d4421ba7bad9035d8d11e",
       "version_major": 2,
       "version_minor": 0
      },
      "text/plain": [
       "interactive(children=(IntSlider(value=0, description='slice_index', max=255), IntSlider(value=0, description='…"
      ]
     },
     "metadata": {},
     "output_type": "display_data"
    },
    {
     "data": {
      "text/plain": [
       "<function __main__.plot_slice(slice_index, axis=0)>"
      ]
     },
     "execution_count": 80,
     "metadata": {},
     "output_type": "execute_result"
    }
   ],
   "source": [
    "from ipywidgets import interact, IntSlider\n",
    "import matplotlib.pyplot as plt\n",
    "pred2 = nrrd.read('/home/james/Documents/VS/pytorch-3dunet-instanceSeg/data/Vesuvius/test/label/layers_1.nrrd')[0]\n",
    "#show final clipped instance segmentation\n",
    "def plot_slice(slice_index, axis=0):\n",
    "    plt.figure(figsize=(8, 6))\n",
    "    if axis == 1:\n",
    "        plt.imshow(pred2[:,slice_index,:])\n",
    "    elif axis == 2:\n",
    "        plt.imshow(pred2[:,:,slice_index])\n",
    "    else:\n",
    "        plt.imshow(pred2[slice_index,:,:])\n",
    "    plt.colorbar()\n",
    "    plt.title(f'Slice {slice_index}')\n",
    "    plt.show()\n",
    "\n",
    "interact(plot_slice, slice_index=IntSlider(min=0, max=pred2.shape[0]-1, step=1, value=0), axis=IntSlider(min=0, max=2, step=1, value=0))"
   ]
  }
 ],
 "metadata": {
  "kernelspec": {
   "display_name": "ML_Normals",
   "language": "python",
   "name": "python3"
  },
  "language_info": {
   "codemirror_mode": {
    "name": "ipython",
    "version": 3
   },
   "file_extension": ".py",
   "mimetype": "text/x-python",
   "name": "python",
   "nbconvert_exporter": "python",
   "pygments_lexer": "ipython3",
   "version": "3.12.3"
  }
 },
 "nbformat": 4,
 "nbformat_minor": 2
}
