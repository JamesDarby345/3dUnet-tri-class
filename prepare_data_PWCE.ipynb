{
 "cells": [
  {
   "cell_type": "code",
   "execution_count": 9,
   "metadata": {},
   "outputs": [],
   "source": [
    "import os\n",
    "import nrrd\n",
    "import numpy as np\n",
    "from helpers import *\n",
    "from ipywidgets import interact, IntSlider\n",
    "import matplotlib.pyplot as plt\n",
    "import shutil\n",
    "from scipy.ndimage import binary_dilation, binary_erosion, binary_closing\n",
    "\n",
    "from concurrent.futures import ProcessPoolExecutor"
   ]
  },
  {
   "cell_type": "code",
   "execution_count": 6,
   "metadata": {},
   "outputs": [],
   "source": [
    "#helper to move and rename nrrd files\n",
    "def rename_and_move_nrrd_files(root_dir):\n",
    "    for subdir, _, files in os.walk(root_dir):\n",
    "        if os.path.basename(subdir) == 'original_labels':\n",
    "            raw_dir = os.path.join(os.path.dirname(subdir), 'raw')\n",
    "            os.makedirs(raw_dir, exist_ok=True)\n",
    "            \n",
    "            for file in files:\n",
    "                old_path = os.path.join(subdir, file)\n",
    "                \n",
    "                if file.endswith('_data.nrrd'):\n",
    "                    new_filename = file.replace('_data.nrrd', '_raw.nrrd')\n",
    "                    new_path = os.path.join(raw_dir, new_filename)\n",
    "                elif file.endswith('_raw.nrrd'):\n",
    "                    new_path = os.path.join(raw_dir, file)\n",
    "                else:\n",
    "                    continue  # Skip files that do not match the criteria\n",
    "                \n",
    "                shutil.move(old_path, new_path)\n",
    "                print(f\"Moved and renamed: {old_path} -> {new_path}\")"
   ]
  },
  {
   "cell_type": "code",
   "execution_count": 7,
   "metadata": {},
   "outputs": [],
   "source": [
    "if False:\n",
    "    current_directory = os.getcwd()\n",
    "    root_directory = f'{current_directory}/data/Vesuvius/'\n",
    "    rename_and_move_nrrd_files(root_directory)"
   ]
  },
  {
   "cell_type": "code",
   "execution_count": 10,
   "metadata": {},
   "outputs": [],
   "source": [
    "def process_nrrd_file(nrrd_path, label_dir, weight_dir, erosion_iterations=1, dilation_iterations=1):\n",
    "    print(f\"Processing: {nrrd_path}\")\n",
    "    data, header = nrrd.read(nrrd_path)\n",
    "    unique_values = np.unique(data[data > 0])  # Ignore background & masking\n",
    "\n",
    "    # Create an empty array for the result\n",
    "    result = np.zeros_like(data, dtype=np.uint8)\n",
    "    weights = np.ones_like(data, dtype=np.uint8)\n",
    "    border_overlap = np.zeros_like(data, dtype=np.uint8)\n",
    "\n",
    "    for value in unique_values:\n",
    "        structure_mask = data == value\n",
    "        \n",
    "        # Pad the structure mask to prevent erosion at the edges\n",
    "        padded_structure = np.pad(structure_mask, pad_width=erosion_iterations, mode='constant', constant_values=value)\n",
    "        \n",
    "        # Erode the padded structure\n",
    "        eroded_padded_structure = binary_erosion(padded_structure, iterations=erosion_iterations)\n",
    "        \n",
    "        # Remove the padding after erosion\n",
    "        eroded_structure = eroded_padded_structure[\n",
    "            erosion_iterations:-erosion_iterations,\n",
    "            erosion_iterations:-erosion_iterations,\n",
    "            erosion_iterations:-erosion_iterations\n",
    "        ]\n",
    "        \n",
    "        # Ensure the eroded structure is within bounds\n",
    "        if eroded_structure.shape != structure_mask.shape:\n",
    "            print(f\"WARNING: Erosion caused shape mismatch for value {value}\")\n",
    "            eroded_structure = np.zeros_like(structure_mask)\n",
    "        \n",
    "        if dilation_iterations > 0:\n",
    "            # Dilate the original structure\n",
    "            dilated_structure = binary_dilation(structure_mask, iterations=dilation_iterations)\n",
    "        else:\n",
    "            dilated_structure = structure_mask\n",
    "        \n",
    "        border = np.logical_xor(dilated_structure, eroded_structure)\n",
    "        # Label assignments\n",
    "        result[border] = 1  # Border class\n",
    "        result[eroded_structure] = 2  # Foreground class (overwrites the border if applicable)\n",
    "        \n",
    "        # Weight assignments\n",
    "        weights[border] = 2 # border weight\n",
    "        weights[eroded_structure] = 1\n",
    "\n",
    "        # Update border overlap array\n",
    "        border_overlap += border.astype(np.uint8)\n",
    "\n",
    "    # Assign a weight of 10 to overlapping border regions\n",
    "    weights[border_overlap > 1] = 10\n",
    "    \n",
    "    # Save the processed arrays back to .nrrd files\n",
    "    label_output_path = os.path.join(label_dir, f\"tri_class_{os.path.basename(nrrd_path)}\")\n",
    "    weight_output_path = os.path.join(weight_dir, f\"weights_{os.path.basename(nrrd_path)}\")\n",
    "    nrrd.write(label_output_path, result, header)\n",
    "    nrrd.write(weight_output_path, weights, header)\n",
    "    print(f\"Processed and saved: {label_output_path} and {weight_output_path}\")\n",
    "\n",
    "def process_nrrd_files(root_dir):\n",
    "    for subdir, _, files in os.walk(root_dir):\n",
    "        if os.path.basename(subdir) == 'original_labels':\n",
    "            # Determine the corresponding 'label' directory\n",
    "            label_dir = os.path.join(os.path.dirname(subdir), 'label')\n",
    "            os.makedirs(label_dir, exist_ok=True)\n",
    "            weight_dir = os.path.join(os.path.dirname(subdir), 'weight')\n",
    "            os.makedirs(weight_dir, exist_ok=True)\n",
    "\n",
    "            # Prepare the arguments for parallel processing\n",
    "            nrrd_paths = [os.path.join(subdir, file) for file in files if file.endswith('.nrrd')]\n",
    "            args = [(nrrd_path, label_dir, weight_dir) for nrrd_path in nrrd_paths]\n",
    "            # for a in args:\n",
    "            #     print(f\"Queueing: {a}\")\n",
    "\n",
    "            # Use ProcessPoolExecutor for parallel processing\n",
    "            with ProcessPoolExecutor() as executor:\n",
    "                futures = [executor.submit(process_nrrd_file, *arg) for arg in args]\n",
    "                for future in futures:\n",
    "                    future.result()  # This will re-raise any exceptions caught during processing\n"
   ]
  },
  {
   "cell_type": "code",
   "execution_count": 11,
   "metadata": {},
   "outputs": [
    {
     "name": "stdout",
     "output_type": "stream",
     "text": [
      "Processing: /home/james/Documents/VS/3dUnet-tri-class/data/Vesuvius/train/original_labels/manual_2_iters_40_rot_1_densified_label.nrrdProcessing: /home/james/Documents/VS/3dUnet-tri-class/data/Vesuvius/train/original_labels/3606_4000_8706_xyz_256_res1_s4_label.nrrdProcessing: /home/james/Documents/VS/3dUnet-tri-class/data/Vesuvius/train/original_labels/3606_4000_8450_xyz_256_res1_s4_label.nrrdProcessing: /home/james/Documents/VS/3dUnet-tri-class/data/Vesuvius/train/original_labels/manual_1_iters_20_rot_2_densified_label.nrrdProcessing: /home/james/Documents/VS/3dUnet-tri-class/data/Vesuvius/train/original_labels/manual_2_iters_20_rot_0_densified_label.nrrdProcessing: /home/james/Documents/VS/3dUnet-tri-class/data/Vesuvius/train/original_labels/manual_2_iters_40_rot_2_densified_label.nrrdProcessing: /home/james/Documents/VS/3dUnet-tri-class/data/Vesuvius/train/original_labels/3606_4256_8706_xyz_256_res1_s4_label.nrrdProcessing: /home/james/Documents/VS/3dUnet-tri-class/data/Vesuvius/train/original_labels/3350_4000_8706_xyz_256_res1_s4_label.nrrd\n",
      "Processing: /home/james/Documents/VS/3dUnet-tri-class/data/Vesuvius/train/original_labels/manual_1_iters_60_rot_0_densified_label.nrrd\n",
      "Processing: /home/james/Documents/VS/3dUnet-tri-class/data/Vesuvius/train/original_labels/manual_1_iters_60_rot_1_densified_label.nrrd\n",
      "\n",
      "Processing: /home/james/Documents/VS/3dUnet-tri-class/data/Vesuvius/train/original_labels/manual_1_iters_76_rot_1_densified_label.nrrd\n",
      "Processing: /home/james/Documents/VS/3dUnet-tri-class/data/Vesuvius/train/original_labels/manual_2_iters_20_rot_2_densified_label.nrrdProcessing: /home/james/Documents/VS/3dUnet-tri-class/data/Vesuvius/train/original_labels/3606_4256_8450_xyz_256_res1_s4_label.nrrdProcessing: /home/james/Documents/VS/3dUnet-tri-class/data/Vesuvius/train/original_labels/manual_2_iters_20_rot_1_densified_label.nrrd\n",
      "\n",
      "\n",
      "Processing: /home/james/Documents/VS/3dUnet-tri-class/data/Vesuvius/train/original_labels/manual_2_iters_76_rot_1_densified_label.nrrd\n",
      "Processing: /home/james/Documents/VS/3dUnet-tri-class/data/Vesuvius/train/original_labels/manual_1_iters_20_rot_0_densified_label.nrrd\n",
      "\n",
      "\n",
      "Processing: /home/james/Documents/VS/3dUnet-tri-class/data/Vesuvius/train/original_labels/manual_1_iters_76_rot_2_densified_label.nrrd\n",
      "\n",
      "Processing: /home/james/Documents/VS/3dUnet-tri-class/data/Vesuvius/train/original_labels/manual_1_iters_40_rot_0_densified_label.nrrd\n",
      "\n",
      "Processing: /home/james/Documents/VS/3dUnet-tri-class/data/Vesuvius/train/original_labels/manual_2_iters_40_rot_0_densified_label.nrrdProcessing: /home/james/Documents/VS/3dUnet-tri-class/data/Vesuvius/train/original_labels/3350_4000_8450_xyz_256_res1_s4_label.nrrdProcessing: /home/james/Documents/VS/3dUnet-tri-class/data/Vesuvius/train/original_labels/3350_4256_8450_xyz_256_res1_s4_label.nrrdProcessing: /home/james/Documents/VS/3dUnet-tri-class/data/Vesuvius/train/original_labels/manual_1_iters_40_rot_2_densified_label.nrrdProcessing: /home/james/Documents/VS/3dUnet-tri-class/data/Vesuvius/train/original_labels/manual_2_iters_76_rot_0_densified_label.nrrdProcessing: /home/james/Documents/VS/3dUnet-tri-class/data/Vesuvius/train/original_labels/manual_1_label.nrrdProcessing: /home/james/Documents/VS/3dUnet-tri-class/data/Vesuvius/train/original_labels/manual_2_iters_76_rot_2_densified_label.nrrd\n",
      "Processing: /home/james/Documents/VS/3dUnet-tri-class/data/Vesuvius/train/original_labels/manual_2_iters_60_rot_2_densified_label.nrrdProcessing: /home/james/Documents/VS/3dUnet-tri-class/data/Vesuvius/train/original_labels/manual_2_iters_60_rot_1_densified_label.nrrd\n",
      "\n",
      "\n",
      "Processing: /home/james/Documents/VS/3dUnet-tri-class/data/Vesuvius/train/original_labels/manual_1_iters_60_rot_2_densified_label.nrrd\n",
      "\n",
      "\n",
      "\n",
      "\n",
      "\n",
      "\n",
      "\n",
      "Processing: /home/james/Documents/VS/3dUnet-tri-class/data/Vesuvius/train/original_labels/manual_1_iters_20_rot_1_densified_label.nrrd\n",
      "Processing: /home/james/Documents/VS/3dUnet-tri-class/data/Vesuvius/train/original_labels/manual_1_iters_40_rot_1_densified_label.nrrd\n",
      "Processing: /home/james/Documents/VS/3dUnet-tri-class/data/Vesuvius/train/original_labels/manual_1_iters_76_rot_0_densified_label.nrrdProcessing: /home/james/Documents/VS/3dUnet-tri-class/data/Vesuvius/train/original_labels/manual_2_iters_60_rot_0_densified_label.nrrd\n",
      "\n",
      "Processed and saved: /home/james/Documents/VS/3dUnet-tri-class/data/Vesuvius/train/label/tri_class_3606_4000_8450_xyz_256_res1_s4_label.nrrd and /home/james/Documents/VS/3dUnet-tri-class/data/Vesuvius/train/weight/weights_3606_4000_8450_xyz_256_res1_s4_label.nrrd\n",
      "Processing: /home/james/Documents/VS/3dUnet-tri-class/data/Vesuvius/train/original_labels/manual_2_label.nrrd\n",
      "Processed and saved: /home/james/Documents/VS/3dUnet-tri-class/data/Vesuvius/train/label/tri_class_3350_4000_8450_xyz_256_res1_s4_label.nrrd and /home/james/Documents/VS/3dUnet-tri-class/data/Vesuvius/train/weight/weights_3350_4000_8450_xyz_256_res1_s4_label.nrrd\n",
      "Processing: /home/james/Documents/VS/3dUnet-tri-class/data/Vesuvius/train/original_labels/3350_4256_8706_xyz_256_res1_s4_label.nrrd\n",
      "Processed and saved: /home/james/Documents/VS/3dUnet-tri-class/data/Vesuvius/train/label/tri_class_3350_4256_8450_xyz_256_res1_s4_label.nrrd and /home/james/Documents/VS/3dUnet-tri-class/data/Vesuvius/train/weight/weights_3350_4256_8450_xyz_256_res1_s4_label.nrrd\n",
      "Processed and saved: /home/james/Documents/VS/3dUnet-tri-class/data/Vesuvius/train/label/tri_class_3606_4000_8706_xyz_256_res1_s4_label.nrrd and /home/james/Documents/VS/3dUnet-tri-class/data/Vesuvius/train/weight/weights_3606_4000_8706_xyz_256_res1_s4_label.nrrd\n",
      "Processed and saved: /home/james/Documents/VS/3dUnet-tri-class/data/Vesuvius/train/label/tri_class_3350_4000_8706_xyz_256_res1_s4_label.nrrd and /home/james/Documents/VS/3dUnet-tri-class/data/Vesuvius/train/weight/weights_3350_4000_8706_xyz_256_res1_s4_label.nrrd\n",
      "Processed and saved: /home/james/Documents/VS/3dUnet-tri-class/data/Vesuvius/train/label/tri_class_3606_4256_8450_xyz_256_res1_s4_label.nrrd and /home/james/Documents/VS/3dUnet-tri-class/data/Vesuvius/train/weight/weights_3606_4256_8450_xyz_256_res1_s4_label.nrrd\n",
      "Processed and saved: /home/james/Documents/VS/3dUnet-tri-class/data/Vesuvius/train/label/tri_class_3606_4256_8706_xyz_256_res1_s4_label.nrrd and /home/james/Documents/VS/3dUnet-tri-class/data/Vesuvius/train/weight/weights_3606_4256_8706_xyz_256_res1_s4_label.nrrd\n",
      "Processed and saved: /home/james/Documents/VS/3dUnet-tri-class/data/Vesuvius/train/label/tri_class_3350_4256_8706_xyz_256_res1_s4_label.nrrd and /home/james/Documents/VS/3dUnet-tri-class/data/Vesuvius/train/weight/weights_3350_4256_8706_xyz_256_res1_s4_label.nrrd\n",
      "Processed and saved: /home/james/Documents/VS/3dUnet-tri-class/data/Vesuvius/train/label/tri_class_manual_2_iters_20_rot_2_densified_label.nrrd and /home/james/Documents/VS/3dUnet-tri-class/data/Vesuvius/train/weight/weights_manual_2_iters_20_rot_2_densified_label.nrrd\n",
      "Processed and saved: /home/james/Documents/VS/3dUnet-tri-class/data/Vesuvius/train/label/tri_class_manual_2_iters_60_rot_2_densified_label.nrrd and /home/james/Documents/VS/3dUnet-tri-class/data/Vesuvius/train/weight/weights_manual_2_iters_60_rot_2_densified_label.nrrd\n",
      "Processed and saved: /home/james/Documents/VS/3dUnet-tri-class/data/Vesuvius/train/label/tri_class_manual_2_iters_60_rot_1_densified_label.nrrd and /home/james/Documents/VS/3dUnet-tri-class/data/Vesuvius/train/weight/weights_manual_2_iters_60_rot_1_densified_label.nrrd\n",
      "Processed and saved: /home/james/Documents/VS/3dUnet-tri-class/data/Vesuvius/train/label/tri_class_manual_2_iters_40_rot_2_densified_label.nrrd and /home/james/Documents/VS/3dUnet-tri-class/data/Vesuvius/train/weight/weights_manual_2_iters_40_rot_2_densified_label.nrrd\n",
      "Processed and saved: /home/james/Documents/VS/3dUnet-tri-class/data/Vesuvius/train/label/tri_class_manual_2_iters_40_rot_1_densified_label.nrrd and /home/james/Documents/VS/3dUnet-tri-class/data/Vesuvius/train/weight/weights_manual_2_iters_40_rot_1_densified_label.nrrd\n",
      "Processed and saved: /home/james/Documents/VS/3dUnet-tri-class/data/Vesuvius/train/label/tri_class_manual_2_iters_20_rot_0_densified_label.nrrd and /home/james/Documents/VS/3dUnet-tri-class/data/Vesuvius/train/weight/weights_manual_2_iters_20_rot_0_densified_label.nrrd\n",
      "Processed and saved: /home/james/Documents/VS/3dUnet-tri-class/data/Vesuvius/train/label/tri_class_manual_2_iters_76_rot_1_densified_label.nrrd and /home/james/Documents/VS/3dUnet-tri-class/data/Vesuvius/train/weight/weights_manual_2_iters_76_rot_1_densified_label.nrrd\n",
      "Processed and saved: /home/james/Documents/VS/3dUnet-tri-class/data/Vesuvius/train/label/tri_class_manual_2_iters_60_rot_0_densified_label.nrrd and /home/james/Documents/VS/3dUnet-tri-class/data/Vesuvius/train/weight/weights_manual_2_iters_60_rot_0_densified_label.nrrd\n",
      "Processed and saved: /home/james/Documents/VS/3dUnet-tri-class/data/Vesuvius/train/label/tri_class_manual_2_iters_76_rot_0_densified_label.nrrd and /home/james/Documents/VS/3dUnet-tri-class/data/Vesuvius/train/weight/weights_manual_2_iters_76_rot_0_densified_label.nrrd\n",
      "Processed and saved: /home/james/Documents/VS/3dUnet-tri-class/data/Vesuvius/train/label/tri_class_manual_2_iters_40_rot_0_densified_label.nrrd and /home/james/Documents/VS/3dUnet-tri-class/data/Vesuvius/train/weight/weights_manual_2_iters_40_rot_0_densified_label.nrrd\n",
      "Processed and saved: /home/james/Documents/VS/3dUnet-tri-class/data/Vesuvius/train/label/tri_class_manual_2_label.nrrd and /home/james/Documents/VS/3dUnet-tri-class/data/Vesuvius/train/weight/weights_manual_2_label.nrrd\n",
      "Processed and saved: /home/james/Documents/VS/3dUnet-tri-class/data/Vesuvius/train/label/tri_class_manual_1_iters_76_rot_2_densified_label.nrrd and /home/james/Documents/VS/3dUnet-tri-class/data/Vesuvius/train/weight/weights_manual_1_iters_76_rot_2_densified_label.nrrd\n",
      "Processed and saved: /home/james/Documents/VS/3dUnet-tri-class/data/Vesuvius/train/label/tri_class_manual_1_iters_40_rot_0_densified_label.nrrd and /home/james/Documents/VS/3dUnet-tri-class/data/Vesuvius/train/weight/weights_manual_1_iters_40_rot_0_densified_label.nrrd\n",
      "Processed and saved: /home/james/Documents/VS/3dUnet-tri-class/data/Vesuvius/train/label/tri_class_manual_1_iters_76_rot_0_densified_label.nrrd and /home/james/Documents/VS/3dUnet-tri-class/data/Vesuvius/train/weight/weights_manual_1_iters_76_rot_0_densified_label.nrrd\n",
      "Processed and saved: /home/james/Documents/VS/3dUnet-tri-class/data/Vesuvius/train/label/tri_class_manual_2_iters_76_rot_2_densified_label.nrrd and /home/james/Documents/VS/3dUnet-tri-class/data/Vesuvius/train/weight/weights_manual_2_iters_76_rot_2_densified_label.nrrd\n",
      "Processed and saved: /home/james/Documents/VS/3dUnet-tri-class/data/Vesuvius/train/label/tri_class_manual_1_iters_20_rot_2_densified_label.nrrd and /home/james/Documents/VS/3dUnet-tri-class/data/Vesuvius/train/weight/weights_manual_1_iters_20_rot_2_densified_label.nrrd\n",
      "Processed and saved: /home/james/Documents/VS/3dUnet-tri-class/data/Vesuvius/train/label/tri_class_manual_1_iters_20_rot_0_densified_label.nrrd and /home/james/Documents/VS/3dUnet-tri-class/data/Vesuvius/train/weight/weights_manual_1_iters_20_rot_0_densified_label.nrrd\n",
      "Processed and saved: /home/james/Documents/VS/3dUnet-tri-class/data/Vesuvius/train/label/tri_class_manual_1_iters_60_rot_2_densified_label.nrrd and /home/james/Documents/VS/3dUnet-tri-class/data/Vesuvius/train/weight/weights_manual_1_iters_60_rot_2_densified_label.nrrd\n",
      "Processed and saved: /home/james/Documents/VS/3dUnet-tri-class/data/Vesuvius/train/label/tri_class_manual_2_iters_20_rot_1_densified_label.nrrd and /home/james/Documents/VS/3dUnet-tri-class/data/Vesuvius/train/weight/weights_manual_2_iters_20_rot_1_densified_label.nrrd\n",
      "Processed and saved: /home/james/Documents/VS/3dUnet-tri-class/data/Vesuvius/train/label/tri_class_manual_1_label.nrrd and /home/james/Documents/VS/3dUnet-tri-class/data/Vesuvius/train/weight/weights_manual_1_label.nrrd\n",
      "Processed and saved: /home/james/Documents/VS/3dUnet-tri-class/data/Vesuvius/train/label/tri_class_manual_1_iters_60_rot_0_densified_label.nrrd and /home/james/Documents/VS/3dUnet-tri-class/data/Vesuvius/train/weight/weights_manual_1_iters_60_rot_0_densified_label.nrrd\n",
      "Processed and saved: /home/james/Documents/VS/3dUnet-tri-class/data/Vesuvius/train/label/tri_class_manual_1_iters_76_rot_1_densified_label.nrrd and /home/james/Documents/VS/3dUnet-tri-class/data/Vesuvius/train/weight/weights_manual_1_iters_76_rot_1_densified_label.nrrd\n",
      "Processed and saved: /home/james/Documents/VS/3dUnet-tri-class/data/Vesuvius/train/label/tri_class_manual_1_iters_40_rot_2_densified_label.nrrd and /home/james/Documents/VS/3dUnet-tri-class/data/Vesuvius/train/weight/weights_manual_1_iters_40_rot_2_densified_label.nrrd\n",
      "Processed and saved: /home/james/Documents/VS/3dUnet-tri-class/data/Vesuvius/train/label/tri_class_manual_1_iters_20_rot_1_densified_label.nrrd and /home/james/Documents/VS/3dUnet-tri-class/data/Vesuvius/train/weight/weights_manual_1_iters_20_rot_1_densified_label.nrrd\n",
      "Processed and saved: /home/james/Documents/VS/3dUnet-tri-class/data/Vesuvius/train/label/tri_class_manual_1_iters_60_rot_1_densified_label.nrrd and /home/james/Documents/VS/3dUnet-tri-class/data/Vesuvius/train/weight/weights_manual_1_iters_60_rot_1_densified_label.nrrd\n",
      "Processed and saved: /home/james/Documents/VS/3dUnet-tri-class/data/Vesuvius/train/label/tri_class_manual_1_iters_40_rot_1_densified_label.nrrd and /home/james/Documents/VS/3dUnet-tri-class/data/Vesuvius/train/weight/weights_manual_1_iters_40_rot_1_densified_label.nrrd\n",
      "Processing: /home/james/Documents/VS/3dUnet-tri-class/data/Vesuvius/test/original_labels/manual_2_label.nrrdProcessing: /home/james/Documents/VS/3dUnet-tri-class/data/Vesuvius/test/original_labels/manual_1_label.nrrd\n",
      "\n",
      "Processed and saved: /home/james/Documents/VS/3dUnet-tri-class/data/Vesuvius/test/label/tri_class_manual_2_label.nrrd and /home/james/Documents/VS/3dUnet-tri-class/data/Vesuvius/test/weight/weights_manual_2_label.nrrd\n",
      "Processed and saved: /home/james/Documents/VS/3dUnet-tri-class/data/Vesuvius/test/label/tri_class_manual_1_label.nrrd and /home/james/Documents/VS/3dUnet-tri-class/data/Vesuvius/test/weight/weights_manual_1_label.nrrd\n",
      "Processing: /home/james/Documents/VS/3dUnet-tri-class/data/Vesuvius/val/original_labels/manual_2_label.nrrd\n",
      "Processed and saved: /home/james/Documents/VS/3dUnet-tri-class/data/Vesuvius/val/label/tri_class_manual_2_label.nrrd and /home/james/Documents/VS/3dUnet-tri-class/data/Vesuvius/val/weight/weights_manual_2_label.nrrd\n"
     ]
    }
   ],
   "source": [
    "import os\n",
    "\n",
    "# Get the current working directory\n",
    "current_directory = os.getcwd()\n",
    "root_directory = f'{current_directory}/data/Vesuvius'\n",
    "process_nrrd_files(root_directory)"
   ]
  },
  {
   "cell_type": "code",
   "execution_count": 12,
   "metadata": {},
   "outputs": [
    {
     "ename": "FileNotFoundError",
     "evalue": "[Errno 2] No such file or directory: '/home/james/Documents/VS/3dUnet-tri-class/data/Vesuvius/train/weight/weights_manual_2_iters_76_rot_0_densified_label_label.nrrd'",
     "output_type": "error",
     "traceback": [
      "\u001b[0;31m---------------------------------------------------------------------------\u001b[0m",
      "\u001b[0;31mFileNotFoundError\u001b[0m                         Traceback (most recent call last)",
      "Cell \u001b[0;32mIn[12], line 9\u001b[0m\n\u001b[1;32m      7\u001b[0m label_type \u001b[38;5;241m=\u001b[39m \u001b[38;5;124m'\u001b[39m\u001b[38;5;124mweights\u001b[39m\u001b[38;5;124m'\u001b[39m\n\u001b[1;32m      8\u001b[0m \u001b[38;5;66;03m# filename = 'tri_class_manual_1_iters_76_rot_0_densified_label.nrrd'\u001b[39;00m\n\u001b[0;32m----> 9\u001b[0m pred \u001b[38;5;241m=\u001b[39m \u001b[43mnrrd\u001b[49m\u001b[38;5;241;43m.\u001b[39;49m\u001b[43mread\u001b[49m\u001b[43m(\u001b[49m\u001b[38;5;124;43mf\u001b[39;49m\u001b[38;5;124;43m'\u001b[39;49m\u001b[38;5;132;43;01m{\u001b[39;49;00m\u001b[43mcurrent_directory\u001b[49m\u001b[38;5;132;43;01m}\u001b[39;49;00m\u001b[38;5;124;43m/data/Vesuvius/\u001b[39;49m\u001b[38;5;132;43;01m{\u001b[39;49;00m\u001b[43mdata_split\u001b[49m\u001b[38;5;132;43;01m}\u001b[39;49;00m\u001b[38;5;124;43m/\u001b[39;49m\u001b[38;5;132;43;01m{\u001b[39;49;00m\u001b[43mdata_type\u001b[49m\u001b[38;5;132;43;01m}\u001b[39;49;00m\u001b[38;5;124;43m/\u001b[39;49m\u001b[38;5;132;43;01m{\u001b[39;49;00m\u001b[43mlabel_type\u001b[49m\u001b[38;5;132;43;01m}\u001b[39;49;00m\u001b[38;5;124;43m_\u001b[39;49m\u001b[38;5;132;43;01m{\u001b[39;49;00m\u001b[43mfilename\u001b[49m\u001b[38;5;132;43;01m}\u001b[39;49;00m\u001b[38;5;124;43m_label.nrrd\u001b[39;49m\u001b[38;5;124;43m'\u001b[39;49m\u001b[43m)\u001b[49m[\u001b[38;5;241m0\u001b[39m]\n\u001b[1;32m     10\u001b[0m \u001b[38;5;28mprint\u001b[39m(np\u001b[38;5;241m.\u001b[39munique(pred))\n\u001b[1;32m     11\u001b[0m \u001b[38;5;66;03m# pred = nrrd.read(f'{os.getcwd()}/data/Vesuvius/val/raw/manual_1_raw.nrrd')[0]\u001b[39;00m\n\u001b[1;32m     12\u001b[0m \u001b[38;5;66;03m#show final clipped instance segmentation\u001b[39;00m\n",
      "File \u001b[0;32m~/anaconda3/envs/pytorch-3dunet/lib/python3.12/site-packages/nrrd/reader.py:515\u001b[0m, in \u001b[0;36mread\u001b[0;34m(filename, custom_field_map, index_order)\u001b[0m\n\u001b[1;32m    480\u001b[0m \u001b[38;5;28;01mdef\u001b[39;00m \u001b[38;5;21mread\u001b[39m(filename: \u001b[38;5;28mstr\u001b[39m, custom_field_map: Optional[NRRDFieldMap] \u001b[38;5;241m=\u001b[39m \u001b[38;5;28;01mNone\u001b[39;00m, index_order: IndexOrder \u001b[38;5;241m=\u001b[39m \u001b[38;5;124m'\u001b[39m\u001b[38;5;124mF\u001b[39m\u001b[38;5;124m'\u001b[39m) \\\n\u001b[1;32m    481\u001b[0m         \u001b[38;5;241m-\u001b[39m\u001b[38;5;241m>\u001b[39m Tuple[npt\u001b[38;5;241m.\u001b[39mNDArray, NRRDHeader]:\n\u001b[1;32m    482\u001b[0m \u001b[38;5;250m    \u001b[39m\u001b[38;5;124;03m\"\"\"Read a NRRD file and return the header and data\u001b[39;00m\n\u001b[1;32m    483\u001b[0m \n\u001b[1;32m    484\u001b[0m \u001b[38;5;124;03m    See :ref:`background/how-to-use:reading nrrd files` for more information on reading NRRD files.\u001b[39;00m\n\u001b[0;32m   (...)\u001b[0m\n\u001b[1;32m    512\u001b[0m \u001b[38;5;124;03m    :meth:`write`, :meth:`read_header`, :meth:`read_data`\u001b[39;00m\n\u001b[1;32m    513\u001b[0m \u001b[38;5;124;03m    \"\"\"\u001b[39;00m\n\u001b[0;32m--> 515\u001b[0m     \u001b[38;5;28;01mwith\u001b[39;00m \u001b[38;5;28;43mopen\u001b[39;49m\u001b[43m(\u001b[49m\u001b[43mfilename\u001b[49m\u001b[43m,\u001b[49m\u001b[43m \u001b[49m\u001b[38;5;124;43m'\u001b[39;49m\u001b[38;5;124;43mrb\u001b[39;49m\u001b[38;5;124;43m'\u001b[39;49m\u001b[43m)\u001b[49m \u001b[38;5;28;01mas\u001b[39;00m fh:\n\u001b[1;32m    516\u001b[0m         header \u001b[38;5;241m=\u001b[39m read_header(fh, custom_field_map)\n\u001b[1;32m    517\u001b[0m         data \u001b[38;5;241m=\u001b[39m read_data(header, fh, filename, index_order)\n",
      "\u001b[0;31mFileNotFoundError\u001b[0m: [Errno 2] No such file or directory: '/home/james/Documents/VS/3dUnet-tri-class/data/Vesuvius/train/weight/weights_manual_2_iters_76_rot_0_densified_label_label.nrrd'"
     ]
    }
   ],
   "source": [
    "# plot the tri-class segmentation label\n",
    "init_slice = 0\n",
    "current_directory = os.getcwd()\n",
    "data_split = 'train'\n",
    "data_type = 'weight'\n",
    "filename = 'manual_2_iters_76_rot_0_densified'\n",
    "label_type = 'weights'\n",
    "# filename = 'tri_class_manual_1_iters_76_rot_0_densified_label.nrrd'\n",
    "pred = nrrd.read(f'{current_directory}/data/Vesuvius/{data_split}/{data_type}/{label_type}_{filename}_label.nrrd')[0]\n",
    "print(np.unique(pred))\n",
    "# pred = nrrd.read(f'{os.getcwd()}/data/Vesuvius/val/raw/manual_1_raw.nrrd')[0]\n",
    "#show final clipped instance segmentation\n",
    "def plot_slice(slice_index, axis=0):\n",
    "    plt.figure(figsize=(8, 6))\n",
    "    if axis == 1:\n",
    "        plt.imshow(pred[:,slice_index,:])\n",
    "    elif axis == 2:\n",
    "        plt.imshow(pred[:,:,slice_index])\n",
    "    else:\n",
    "        plt.imshow(pred[slice_index,:,:])\n",
    "    plt.colorbar()\n",
    "    plt.title(f'Slice {slice_index}')\n",
    "    plt.show()\n",
    "\n",
    "interact(plot_slice, slice_index=IntSlider(min=0, max=pred.shape[0]-1, step=1, value=init_slice), axis=IntSlider(min=0, max=2, step=1, value=0))"
   ]
  },
  {
   "cell_type": "code",
   "execution_count": 3,
   "metadata": {},
   "outputs": [
    {
     "data": {
      "application/vnd.jupyter.widget-view+json": {
       "model_id": "fdf6c7b40e8145dfaa78a61eb213fd78",
       "version_major": 2,
       "version_minor": 0
      },
      "text/plain": [
       "interactive(children=(IntSlider(value=0, description='slice_index', max=255), IntSlider(value=0, description='…"
      ]
     },
     "metadata": {},
     "output_type": "display_data"
    },
    {
     "data": {
      "text/plain": [
       "<function __main__.plot_slice(slice_index, axis=0)>"
      ]
     },
     "execution_count": 3,
     "metadata": {},
     "output_type": "execute_result"
    }
   ],
   "source": [
    "#plot the tri class label on raw data\n",
    "current_directory = os.getcwd()\n",
    "# filename = 'manual_1_iters_76_rot_1_densified'\n",
    "pred = nrrd.read(f'{current_directory}/data/Vesuvius/{data_split}/label/tri_class_{filename}_label.nrrd')[0]\n",
    "raw_data = nrrd.read(f'{current_directory}/data/Vesuvius/{data_split}/raw/{filename}_raw.nrrd')[0]\n",
    "\n",
    "if raw_data.dtype != np.int16 and raw_data.dtype != np.int32:\n",
    "        normalized_arr = (raw_data - raw_data.min()) / (raw_data.max() - raw_data.min())\n",
    "        raw_data = (normalized_arr * np.iinfo(np.int16).max).astype(np.int16)\n",
    "\n",
    "# pred = nrrd.read(f'{os.getcwd()}/data/Vesuvius/val/raw/manual_1_raw.nrrd')[0]\n",
    "#show final clipped instance segmentation\n",
    "def plot_slice(slice_index, axis=0):\n",
    "    plt.figure(figsize=(8, 6))\n",
    "    if axis == 1:\n",
    "        plt.imshow(mark_boundaries_color(raw_data[:,slice_index,:], pred[:,slice_index,:]))\n",
    "    elif axis == 2:\n",
    "        plt.imshow(mark_boundaries_color(raw_data[:,:,slice_index], pred[:,:,slice_index]))\n",
    "    else:\n",
    "        plt.imshow(mark_boundaries_color(raw_data[slice_index,:,:], pred[slice_index,:,:]))\n",
    "    plt.colorbar()\n",
    "    plt.title(f'Slice {slice_index}')\n",
    "    plt.show()\n",
    "\n",
    "interact(plot_slice, slice_index=IntSlider(min=0, max=pred.shape[0]-1, step=1, value=init_slice), axis=IntSlider(min=0, max=2, step=1, value=0))"
   ]
  },
  {
   "cell_type": "code",
   "execution_count": 4,
   "metadata": {},
   "outputs": [
    {
     "name": "stdout",
     "output_type": "stream",
     "text": [
      "Number of connected foreground structures before filtering: 16\n",
      "Number of connected foreground structures after filtering: 16\n",
      "[ 0  1  2  4  5  6  7  8  9 10 11 12 13 14]\n"
     ]
    }
   ],
   "source": [
    "data_type='label'\n",
    "pred = nrrd.read(f'{current_directory}/data/Vesuvius/{data_split}/{data_type}/tri_class_{filename}_label.nrrd')[0]\n",
    "labeled_arr = label_foreground_structures(pred)\n",
    "img_path = f'{current_directory}/data/Vesuvius/{data_split}/raw/{filename}_raw.nrrd'\n",
    "image, _ = nrrd.read(img_path)\n",
    "if image.dtype != np.int16 and image.dtype != np.int32:\n",
    "        normalized_arr = (image - image.min()) / (image.max() - image.min())\n",
    "        image = (normalized_arr * np.iinfo(np.int16).max).astype(np.int16)\n",
    "gt_label = nrrd.read(f'{current_directory}/data/Vesuvius/{data_split}/original_labels/{filename}_label.nrrd')[0]\n",
    "print(np.unique(gt_label))"
   ]
  },
  {
   "cell_type": "code",
   "execution_count": 5,
   "metadata": {},
   "outputs": [
    {
     "data": {
      "application/vnd.jupyter.widget-view+json": {
       "model_id": "f31f8faa6c1b4a489c355fda3c387603",
       "version_major": 2,
       "version_minor": 0
      },
      "text/plain": [
       "interactive(children=(IntSlider(value=0, description='slice_index', max=255), IntSlider(value=0, description='…"
      ]
     },
     "metadata": {},
     "output_type": "display_data"
    },
    {
     "data": {
      "text/plain": [
       "<function __main__.plot_slice(slice_index, axis=0)>"
      ]
     },
     "execution_count": 5,
     "metadata": {},
     "output_type": "execute_result"
    }
   ],
   "source": [
    "#plot tri-class recovered instance labels\n",
    "def plot_slice(slice_index, axis=0):\n",
    "    plt.figure(figsize=(8, 6))\n",
    "    if axis == 1:\n",
    "        plt.imshow(mark_boundaries_color(image[:,slice_index,:], labeled_arr[:,slice_index,:]))\n",
    "    elif axis == 2:\n",
    "        plt.imshow(mark_boundaries_color(image[:,:,slice_index], labeled_arr[:,:,slice_index]))\n",
    "    else:\n",
    "        plt.imshow(mark_boundaries_color(image[slice_index,:,:], labeled_arr[slice_index,:,:]))\n",
    "    plt.colorbar()\n",
    "    plt.title(f'Slice {slice_index}')\n",
    "    plt.show()\n",
    "\n",
    "interact(plot_slice, slice_index=IntSlider(min=0, max=pred.shape[0]-1, step=1, value=init_slice), axis=IntSlider(min=0, max=2, step=1, value=0))"
   ]
  },
  {
   "cell_type": "code",
   "execution_count": 6,
   "metadata": {},
   "outputs": [
    {
     "data": {
      "application/vnd.jupyter.widget-view+json": {
       "model_id": "1dccb03c6de54ed5bb3fda08fd246ed5",
       "version_major": 2,
       "version_minor": 0
      },
      "text/plain": [
       "interactive(children=(IntSlider(value=0, description='slice_index', max=255), IntSlider(value=0, description='…"
      ]
     },
     "metadata": {},
     "output_type": "display_data"
    },
    {
     "data": {
      "text/plain": [
       "<function __main__.plot_slice(slice_index, axis=0)>"
      ]
     },
     "execution_count": 6,
     "metadata": {},
     "output_type": "execute_result"
    }
   ],
   "source": [
    "#plot gt labels\n",
    "pred2 = nrrd.read(f'{current_directory}/data/Vesuvius/{data_split}/original_labels/{filename}_label.nrrd')[0]\n",
    "#show final clipped instance segmentation\n",
    "def plot_slice(slice_index, axis=0):\n",
    "    plt.figure(figsize=(8, 6))\n",
    "    if axis == 1:\n",
    "        plt.imshow(pred2[:,slice_index,:])\n",
    "    elif axis == 2:\n",
    "        plt.imshow(pred2[:,:,slice_index])\n",
    "    else:\n",
    "        plt.imshow(pred2[slice_index,:,:])\n",
    "    plt.colorbar()\n",
    "    plt.title(f'Slice {slice_index}')\n",
    "    plt.show()\n",
    "\n",
    "interact(plot_slice, slice_index=IntSlider(min=0, max=pred2.shape[0]-1, step=1, value=init_slice), axis=IntSlider(min=0, max=2, step=1, value=0))"
   ]
  },
  {
   "cell_type": "code",
   "execution_count": 7,
   "metadata": {},
   "outputs": [],
   "source": [
    "import os\n",
    "import h5py\n",
    "import nrrd\n",
    "import numpy as np\n",
    "\n",
    "def create_hdf5_files(raw_dir, label_dir, output_dir, weight_dir=None):\n",
    "    # Ensure output directory exists\n",
    "    os.makedirs(output_dir, exist_ok=True)\n",
    "\n",
    "    for raw_filename in os.listdir(raw_dir):\n",
    "        if raw_filename.endswith('.nrrd'):\n",
    "            # Construct full file paths for raw, weights and label\n",
    "            raw_path = os.path.join(raw_dir, raw_filename)\n",
    "            base_name = '_'.join(raw_filename.split('_')[:-1])\n",
    "            weight_filename = \"weights_\"+base_name+'_label.nrrd'\n",
    "            label_filename = \"tri_class_\"+base_name+'_label.nrrd'\n",
    "            label_path = os.path.join(label_dir, label_filename)\n",
    "\n",
    "            print(f\"Processing: {raw_filename} and {label_filename}\")\n",
    "            \n",
    "            if not os.path.exists(label_path):\n",
    "                print(f\"Label file not found for {label_filename}\")\n",
    "                label_filename = f\"tri_class_{raw_filename}\"\n",
    "                print(f\"trying {label_filename}\")\n",
    "                label_path = os.path.join(label_dir, label_filename)\n",
    "            if not os.path.exists(label_path):\n",
    "                print(f\"Label file not found for {raw_filename}, skipping.\")\n",
    "                continue\n",
    "            \n",
    "            # Read raw and label data\n",
    "            raw_data, raw_header = nrrd.read(raw_path)\n",
    "            if raw_data.dtype != np.int16 and raw_data.dtype != np.int32:\n",
    "                normalized_arr = (raw_data - raw_data.min()) / (raw_data.max() - raw_data.min())\n",
    "                raw_data = (normalized_arr * np.iinfo(np.int16).max).astype(np.int16)\n",
    "            label_data, label_header = nrrd.read(label_path)\n",
    "            \n",
    "            # Optionally read weight data\n",
    "            if weight_dir:\n",
    "                weight_path = os.path.join(weight_dir, weight_filename)\n",
    "                if os.path.exists(weight_path):\n",
    "                    weight_data, weight_header = nrrd.read(weight_path)\n",
    "            \n",
    "            raw_dtype = np.int16\n",
    "            # Convert to numpy arrays\n",
    "            raw_data = np.asarray(raw_data, dtype=raw_dtype)\n",
    "            label_data = np.asarray(label_data, dtype=np.uint8)\n",
    "            if weight_data is not None:\n",
    "                weight_data = np.asarray(weight_data, dtype=raw_dtype)\n",
    "            \n",
    "            # Construct output file path\n",
    "            output_filename = base_name + '.h5'\n",
    "            output_path = os.path.join(output_dir, output_filename)\n",
    "            \n",
    "            # Create HDF5 file\n",
    "            with h5py.File(output_path, 'w') as hdf5_file:\n",
    "                hdf5_file.create_dataset('raw', data=raw_data, dtype='int16')\n",
    "                hdf5_file.create_dataset('label', data=label_data, dtype='uint8')\n",
    "                if weight_data is not None:\n",
    "                    hdf5_file.create_dataset('weight', data=weight_data, dtype='uint8')\n",
    "            \n",
    "            print(f\"Processed and saved {raw_filename} and {label_filename} to {output_path}\")"
   ]
  },
  {
   "cell_type": "code",
   "execution_count": null,
   "metadata": {},
   "outputs": [],
   "source": [
    "current_directory = os.getcwd()\n",
    "sub_dir = 'test'\n",
    "raw_directory = f'{current_directory}/data/Vesuvius/{sub_dir}/raw'\n",
    "label_directory = f'{current_directory}/data/Vesuvius/{sub_dir}/label'\n",
    "output_hdf5_path = f'{current_directory}/data/Vesuvius/{sub_dir}/dataset'\n",
    "create_hdf5_files(raw_directory, label_directory, output_hdf5_path)"
   ]
  },
  {
   "cell_type": "code",
   "execution_count": null,
   "metadata": {},
   "outputs": [],
   "source": [
    "sub_dir = 'val'\n",
    "raw_directory = f'{current_directory}/data/Vesuvius/{sub_dir}/raw'\n",
    "label_directory = f'{current_directory}/data/Vesuvius/{sub_dir}/label'\n",
    "weight_directory = f'{current_directory}/data/Vesuvius/{sub_dir}/weight'\n",
    "output_hdf5_path = f'{current_directory}/data/Vesuvius/{sub_dir}/dataset'\n",
    "create_hdf5_files(raw_directory, label_directory, output_hdf5_path)"
   ]
  },
  {
   "cell_type": "code",
   "execution_count": 8,
   "metadata": {},
   "outputs": [
    {
     "name": "stdout",
     "output_type": "stream",
     "text": [
      "Processing: manual_1_raw.nrrd and tri_class_manual_1_label.nrrd\n",
      "Processed and saved manual_1_raw.nrrd and tri_class_manual_1_label.nrrd to /home/james/Documents/VS/3dUnet-tri-class/data/Vesuvius/train/dataset/manual_1.h5\n"
     ]
    }
   ],
   "source": [
    "sub_dir = 'train'\n",
    "raw_directory = f'{current_directory}/data/Vesuvius/{sub_dir}/raw'\n",
    "label_directory = f'{current_directory}/data/Vesuvius/{sub_dir}/label'\n",
    "weight_directory = f'{current_directory}/data/Vesuvius/{sub_dir}/weight'\n",
    "output_hdf5_path = f'{current_directory}/data/Vesuvius/{sub_dir}/dataset'\n",
    "create_hdf5_files(raw_directory, label_directory, output_hdf5_path, weight_directory)"
   ]
  },
  {
   "cell_type": "code",
   "execution_count": null,
   "metadata": {},
   "outputs": [],
   "source": [
    "#visualise a slice from each training dataset\n",
    "import os\n",
    "import h5py\n",
    "import numpy as np\n",
    "import matplotlib.pyplot as plt\n",
    "\n",
    "def display_h5_slices(folder_path, slice_index=0):\n",
    "    for file in os.listdir(folder_path):\n",
    "        if file.endswith('.h5'):\n",
    "            file_path = os.path.join(folder_path, file)\n",
    "            with h5py.File(file_path, 'r') as h5_file:\n",
    "                if 'raw' in h5_file and 'label' in h5_file:\n",
    "                    raw_data = h5_file['raw']\n",
    "                    label_data = h5_file['label']\n",
    "                    \n",
    "                    # Check if the slice_index is within bounds\n",
    "                    if slice_index < raw_data.shape[0] and slice_index < label_data.shape[0]:\n",
    "                        raw_slice = raw_data[slice_index, :, :]\n",
    "                        print(raw_slice.dtype)\n",
    "                        label_slice = label_data[slice_index, :, :]\n",
    "                        \n",
    "                        fig, axes = plt.subplots(1, 2, figsize=(10, 5))\n",
    "                        axes[0].imshow(raw_slice, cmap='gray')\n",
    "                        axes[0].set_title('Raw Data')\n",
    "                        axes[1].imshow(mark_boundaries_color(raw_slice, label_slice))\n",
    "                        axes[1].set_title('Label Data')\n",
    "                        plt.suptitle(f\"File: {file}, Slice: {slice_index}\")\n",
    "                        plt.show()\n",
    "                    else:\n",
    "                        print(f\"Slice index {slice_index} out of bounds for file: {file}\")\n",
    "\n",
    "current_directory = os.getcwd()\n",
    "h5_folder = f'{current_directory}/data/Vesuvius/train/dataset'\n",
    "display_h5_slices(h5_folder)"
   ]
  }
 ],
 "metadata": {
  "kernelspec": {
   "display_name": "ML_Normals",
   "language": "python",
   "name": "python3"
  },
  "language_info": {
   "codemirror_mode": {
    "name": "ipython",
    "version": 3
   },
   "file_extension": ".py",
   "mimetype": "text/x-python",
   "name": "python",
   "nbconvert_exporter": "python",
   "pygments_lexer": "ipython3",
   "version": "3.12.3"
  }
 },
 "nbformat": 4,
 "nbformat_minor": 2
}
